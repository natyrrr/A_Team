{
 "cells": [
  {
   "cell_type": "code",
   "execution_count": 145,
   "metadata": {},
   "outputs": [],
   "source": [
    "# Import libraries and dependencies\n",
    "import numpy as np\n",
    "import pandas as pd\n",
    "from pathlib import Path\n",
    "import hvplot.pandas\n",
    "import os\n",
    "import matplotlib.pyplot as plt\n",
    "import plotly.express as px\n",
    "import panel as pn\n",
    "import holoviews as hv\n",
    "%matplotlib inline"
   ]
  },
  {
   "cell_type": "code",
   "execution_count": 146,
   "metadata": {},
   "outputs": [],
   "source": [
    "#setting csv file path for the SBA_PPP file\n",
    "csvpath = Path(\"SBA.csv\") "
   ]
  },
  {
   "cell_type": "code",
   "execution_count": 147,
   "metadata": {},
   "outputs": [],
   "source": [
    "# Use the file path to read the CSV into a DataFrame\n",
    "SBA_PPP_df = pd.read_csv(csvpath)"
   ]
  },
  {
   "cell_type": "code",
   "execution_count": 148,
   "metadata": {},
   "outputs": [
    {
     "data": {
      "text/html": [
       "<div>\n",
       "<style scoped>\n",
       "    .dataframe tbody tr th:only-of-type {\n",
       "        vertical-align: middle;\n",
       "    }\n",
       "\n",
       "    .dataframe tbody tr th {\n",
       "        vertical-align: top;\n",
       "    }\n",
       "\n",
       "    .dataframe thead th {\n",
       "        text-align: right;\n",
       "    }\n",
       "</style>\n",
       "<table border=\"1\" class=\"dataframe\">\n",
       "  <thead>\n",
       "    <tr style=\"text-align: right;\">\n",
       "      <th></th>\n",
       "      <th>LoanAmount</th>\n",
       "      <th>City</th>\n",
       "      <th>State</th>\n",
       "      <th>Zip</th>\n",
       "      <th>NAICSCode</th>\n",
       "      <th>BusinessType</th>\n",
       "      <th>RaceEthnicity</th>\n",
       "      <th>Gender</th>\n",
       "      <th>Veteran</th>\n",
       "      <th>NonProfit</th>\n",
       "      <th>JobsRetained</th>\n",
       "      <th>DateApproved</th>\n",
       "      <th>Lender</th>\n",
       "      <th>CD</th>\n",
       "    </tr>\n",
       "  </thead>\n",
       "  <tbody>\n",
       "    <tr>\n",
       "      <th>0</th>\n",
       "      <td>149990.0</td>\n",
       "      <td>STATEN ISLAND</td>\n",
       "      <td>NY</td>\n",
       "      <td>10309.0</td>\n",
       "      <td>238340.0</td>\n",
       "      <td>Subchapter S Corporation</td>\n",
       "      <td>Unanswered</td>\n",
       "      <td>Unanswered</td>\n",
       "      <td>Unanswered</td>\n",
       "      <td>NaN</td>\n",
       "      <td>8.0</td>\n",
       "      <td>05/01/2020</td>\n",
       "      <td>JPMorgan Chase Bank, National Association</td>\n",
       "      <td>NY - 11</td>\n",
       "    </tr>\n",
       "    <tr>\n",
       "      <th>1</th>\n",
       "      <td>149990.0</td>\n",
       "      <td>WHITESTONE</td>\n",
       "      <td>NY</td>\n",
       "      <td>11357.0</td>\n",
       "      <td>621210.0</td>\n",
       "      <td>Corporation</td>\n",
       "      <td>Unanswered</td>\n",
       "      <td>Male Owned</td>\n",
       "      <td>Non-Veteran</td>\n",
       "      <td>NaN</td>\n",
       "      <td>16.0</td>\n",
       "      <td>04/29/2020</td>\n",
       "      <td>JPMorgan Chase Bank, National Association</td>\n",
       "      <td>NY - 03</td>\n",
       "    </tr>\n",
       "    <tr>\n",
       "      <th>2</th>\n",
       "      <td>149987.0</td>\n",
       "      <td>BROOKLYN</td>\n",
       "      <td>NY</td>\n",
       "      <td>11205.0</td>\n",
       "      <td>484110.0</td>\n",
       "      <td>Corporation</td>\n",
       "      <td>Asian</td>\n",
       "      <td>Male Owned</td>\n",
       "      <td>Non-Veteran</td>\n",
       "      <td>NaN</td>\n",
       "      <td>13.0</td>\n",
       "      <td>04/28/2020</td>\n",
       "      <td>East West Bank</td>\n",
       "      <td>NY - 07</td>\n",
       "    </tr>\n",
       "    <tr>\n",
       "      <th>3</th>\n",
       "      <td>149982.0</td>\n",
       "      <td>ISLIP TERRACE</td>\n",
       "      <td>NY</td>\n",
       "      <td>11752.0</td>\n",
       "      <td>236115.0</td>\n",
       "      <td>Subchapter S Corporation</td>\n",
       "      <td>Unanswered</td>\n",
       "      <td>Unanswered</td>\n",
       "      <td>Unanswered</td>\n",
       "      <td>NaN</td>\n",
       "      <td>8.0</td>\n",
       "      <td>05/01/2020</td>\n",
       "      <td>JPMorgan Chase Bank, National Association</td>\n",
       "      <td>NY - 02</td>\n",
       "    </tr>\n",
       "    <tr>\n",
       "      <th>4</th>\n",
       "      <td>149979.0</td>\n",
       "      <td>NEW YORK</td>\n",
       "      <td>NY</td>\n",
       "      <td>10005.0</td>\n",
       "      <td>541840.0</td>\n",
       "      <td>Subchapter S Corporation</td>\n",
       "      <td>Unanswered</td>\n",
       "      <td>Unanswered</td>\n",
       "      <td>Unanswered</td>\n",
       "      <td>NaN</td>\n",
       "      <td>11.0</td>\n",
       "      <td>05/01/2020</td>\n",
       "      <td>Haddon Savings Bank</td>\n",
       "      <td>NY - 10</td>\n",
       "    </tr>\n",
       "  </tbody>\n",
       "</table>\n",
       "</div>"
      ],
      "text/plain": [
       "   LoanAmount           City State      Zip  NAICSCode  \\\n",
       "0    149990.0  STATEN ISLAND    NY  10309.0   238340.0   \n",
       "1    149990.0     WHITESTONE    NY  11357.0   621210.0   \n",
       "2    149987.0       BROOKLYN    NY  11205.0   484110.0   \n",
       "3    149982.0  ISLIP TERRACE    NY  11752.0   236115.0   \n",
       "4    149979.0       NEW YORK    NY  10005.0   541840.0   \n",
       "\n",
       "               BusinessType RaceEthnicity      Gender      Veteran NonProfit  \\\n",
       "0  Subchapter S Corporation    Unanswered  Unanswered   Unanswered       NaN   \n",
       "1               Corporation    Unanswered  Male Owned  Non-Veteran       NaN   \n",
       "2               Corporation         Asian  Male Owned  Non-Veteran       NaN   \n",
       "3  Subchapter S Corporation    Unanswered  Unanswered   Unanswered       NaN   \n",
       "4  Subchapter S Corporation    Unanswered  Unanswered   Unanswered       NaN   \n",
       "\n",
       "   JobsRetained DateApproved                                     Lender  \\\n",
       "0           8.0   05/01/2020  JPMorgan Chase Bank, National Association   \n",
       "1          16.0   04/29/2020  JPMorgan Chase Bank, National Association   \n",
       "2          13.0   04/28/2020                             East West Bank   \n",
       "3           8.0   05/01/2020  JPMorgan Chase Bank, National Association   \n",
       "4          11.0   05/01/2020                        Haddon Savings Bank   \n",
       "\n",
       "        CD  \n",
       "0  NY - 11  \n",
       "1  NY - 03  \n",
       "2  NY - 07  \n",
       "3  NY - 02  \n",
       "4  NY - 10  "
      ]
     },
     "execution_count": 148,
     "metadata": {},
     "output_type": "execute_result"
    }
   ],
   "source": [
    "SBA_PPP_df.head()"
   ]
  },
  {
   "cell_type": "code",
   "execution_count": 32,
   "metadata": {},
   "outputs": [
    {
     "data": {
      "text/plain": [
       "LoanAmount       float64\n",
       "City              object\n",
       "State             object\n",
       "Zip              float64\n",
       "NAICSCode        float64\n",
       "BusinessType      object\n",
       "RaceEthnicity     object\n",
       "Gender            object\n",
       "Veteran           object\n",
       "NonProfit         object\n",
       "JobsRetained     float64\n",
       "DateApproved      object\n",
       "Lender            object\n",
       "CD                object\n",
       "dtype: object"
      ]
     },
     "execution_count": 32,
     "metadata": {},
     "output_type": "execute_result"
    }
   ],
   "source": [
    "SBA_PPP_df.dtypes"
   ]
  },
  {
   "cell_type": "code",
   "execution_count": 33,
   "metadata": {},
   "outputs": [],
   "source": [
    "#renaming columns in the df\n",
    "SBA_PPP_df = SBA_PPP_df.rename(columns= {\"LoanAmount\": \"Loan Amount\", \"NAICSCode\": \"NAICS Code\", \"DateApproved\": \"Date Approved\", \"JobsRetained\": \"Jobs Retained\"})"
   ]
  },
  {
   "cell_type": "code",
   "execution_count": 34,
   "metadata": {},
   "outputs": [
    {
     "data": {
      "text/html": [
       "<div>\n",
       "<style scoped>\n",
       "    .dataframe tbody tr th:only-of-type {\n",
       "        vertical-align: middle;\n",
       "    }\n",
       "\n",
       "    .dataframe tbody tr th {\n",
       "        vertical-align: top;\n",
       "    }\n",
       "\n",
       "    .dataframe thead th {\n",
       "        text-align: right;\n",
       "    }\n",
       "</style>\n",
       "<table border=\"1\" class=\"dataframe\">\n",
       "  <thead>\n",
       "    <tr style=\"text-align: right;\">\n",
       "      <th></th>\n",
       "      <th>Loan Amount</th>\n",
       "      <th>City</th>\n",
       "      <th>State</th>\n",
       "      <th>Zip</th>\n",
       "      <th>NAICS Code</th>\n",
       "      <th>BusinessType</th>\n",
       "      <th>RaceEthnicity</th>\n",
       "      <th>Gender</th>\n",
       "      <th>Veteran</th>\n",
       "      <th>NonProfit</th>\n",
       "      <th>Jobs Retained</th>\n",
       "      <th>Date Approved</th>\n",
       "      <th>Lender</th>\n",
       "      <th>CD</th>\n",
       "    </tr>\n",
       "  </thead>\n",
       "  <tbody>\n",
       "    <tr>\n",
       "      <th>0</th>\n",
       "      <td>149990.0</td>\n",
       "      <td>STATEN ISLAND</td>\n",
       "      <td>NY</td>\n",
       "      <td>10309.0</td>\n",
       "      <td>238340.0</td>\n",
       "      <td>Subchapter S Corporation</td>\n",
       "      <td>Unanswered</td>\n",
       "      <td>Unanswered</td>\n",
       "      <td>Unanswered</td>\n",
       "      <td>NaN</td>\n",
       "      <td>8.0</td>\n",
       "      <td>05/01/2020</td>\n",
       "      <td>JPMorgan Chase Bank, National Association</td>\n",
       "      <td>NY - 11</td>\n",
       "    </tr>\n",
       "    <tr>\n",
       "      <th>1</th>\n",
       "      <td>149990.0</td>\n",
       "      <td>WHITESTONE</td>\n",
       "      <td>NY</td>\n",
       "      <td>11357.0</td>\n",
       "      <td>621210.0</td>\n",
       "      <td>Corporation</td>\n",
       "      <td>Unanswered</td>\n",
       "      <td>Male Owned</td>\n",
       "      <td>Non-Veteran</td>\n",
       "      <td>NaN</td>\n",
       "      <td>16.0</td>\n",
       "      <td>04/29/2020</td>\n",
       "      <td>JPMorgan Chase Bank, National Association</td>\n",
       "      <td>NY - 03</td>\n",
       "    </tr>\n",
       "    <tr>\n",
       "      <th>2</th>\n",
       "      <td>149987.0</td>\n",
       "      <td>BROOKLYN</td>\n",
       "      <td>NY</td>\n",
       "      <td>11205.0</td>\n",
       "      <td>484110.0</td>\n",
       "      <td>Corporation</td>\n",
       "      <td>Asian</td>\n",
       "      <td>Male Owned</td>\n",
       "      <td>Non-Veteran</td>\n",
       "      <td>NaN</td>\n",
       "      <td>13.0</td>\n",
       "      <td>04/28/2020</td>\n",
       "      <td>East West Bank</td>\n",
       "      <td>NY - 07</td>\n",
       "    </tr>\n",
       "    <tr>\n",
       "      <th>3</th>\n",
       "      <td>149982.0</td>\n",
       "      <td>ISLIP TERRACE</td>\n",
       "      <td>NY</td>\n",
       "      <td>11752.0</td>\n",
       "      <td>236115.0</td>\n",
       "      <td>Subchapter S Corporation</td>\n",
       "      <td>Unanswered</td>\n",
       "      <td>Unanswered</td>\n",
       "      <td>Unanswered</td>\n",
       "      <td>NaN</td>\n",
       "      <td>8.0</td>\n",
       "      <td>05/01/2020</td>\n",
       "      <td>JPMorgan Chase Bank, National Association</td>\n",
       "      <td>NY - 02</td>\n",
       "    </tr>\n",
       "    <tr>\n",
       "      <th>4</th>\n",
       "      <td>149979.0</td>\n",
       "      <td>NEW YORK</td>\n",
       "      <td>NY</td>\n",
       "      <td>10005.0</td>\n",
       "      <td>541840.0</td>\n",
       "      <td>Subchapter S Corporation</td>\n",
       "      <td>Unanswered</td>\n",
       "      <td>Unanswered</td>\n",
       "      <td>Unanswered</td>\n",
       "      <td>NaN</td>\n",
       "      <td>11.0</td>\n",
       "      <td>05/01/2020</td>\n",
       "      <td>Haddon Savings Bank</td>\n",
       "      <td>NY - 10</td>\n",
       "    </tr>\n",
       "  </tbody>\n",
       "</table>\n",
       "</div>"
      ],
      "text/plain": [
       "   Loan Amount           City State      Zip  NAICS Code  \\\n",
       "0     149990.0  STATEN ISLAND    NY  10309.0    238340.0   \n",
       "1     149990.0     WHITESTONE    NY  11357.0    621210.0   \n",
       "2     149987.0       BROOKLYN    NY  11205.0    484110.0   \n",
       "3     149982.0  ISLIP TERRACE    NY  11752.0    236115.0   \n",
       "4     149979.0       NEW YORK    NY  10005.0    541840.0   \n",
       "\n",
       "               BusinessType RaceEthnicity      Gender      Veteran NonProfit  \\\n",
       "0  Subchapter S Corporation    Unanswered  Unanswered   Unanswered       NaN   \n",
       "1               Corporation    Unanswered  Male Owned  Non-Veteran       NaN   \n",
       "2               Corporation         Asian  Male Owned  Non-Veteran       NaN   \n",
       "3  Subchapter S Corporation    Unanswered  Unanswered   Unanswered       NaN   \n",
       "4  Subchapter S Corporation    Unanswered  Unanswered   Unanswered       NaN   \n",
       "\n",
       "   Jobs Retained Date Approved                                     Lender  \\\n",
       "0            8.0    05/01/2020  JPMorgan Chase Bank, National Association   \n",
       "1           16.0    04/29/2020  JPMorgan Chase Bank, National Association   \n",
       "2           13.0    04/28/2020                             East West Bank   \n",
       "3            8.0    05/01/2020  JPMorgan Chase Bank, National Association   \n",
       "4           11.0    05/01/2020                        Haddon Savings Bank   \n",
       "\n",
       "        CD  \n",
       "0  NY - 11  \n",
       "1  NY - 03  \n",
       "2  NY - 07  \n",
       "3  NY - 02  \n",
       "4  NY - 10  "
      ]
     },
     "execution_count": 34,
     "metadata": {},
     "output_type": "execute_result"
    }
   ],
   "source": [
    "SBA_PPP_df.head()"
   ]
  },
  {
   "cell_type": "code",
   "execution_count": 35,
   "metadata": {},
   "outputs": [],
   "source": [
    "#dropping columns from the df\n",
    "SBA_PPP_df = SBA_PPP_df.drop(columns = [\"State\", \"City\", \"BusinessType\", \"RaceEthnicity\", \"Gender\", \"Veteran\", \"NonProfit\", \"CD\"])"
   ]
  },
  {
   "cell_type": "code",
   "execution_count": 36,
   "metadata": {},
   "outputs": [
    {
     "data": {
      "text/html": [
       "<div>\n",
       "<style scoped>\n",
       "    .dataframe tbody tr th:only-of-type {\n",
       "        vertical-align: middle;\n",
       "    }\n",
       "\n",
       "    .dataframe tbody tr th {\n",
       "        vertical-align: top;\n",
       "    }\n",
       "\n",
       "    .dataframe thead th {\n",
       "        text-align: right;\n",
       "    }\n",
       "</style>\n",
       "<table border=\"1\" class=\"dataframe\">\n",
       "  <thead>\n",
       "    <tr style=\"text-align: right;\">\n",
       "      <th></th>\n",
       "      <th>Loan Amount</th>\n",
       "      <th>Zip</th>\n",
       "      <th>NAICS Code</th>\n",
       "      <th>Jobs Retained</th>\n",
       "      <th>Date Approved</th>\n",
       "      <th>Lender</th>\n",
       "    </tr>\n",
       "  </thead>\n",
       "  <tbody>\n",
       "    <tr>\n",
       "      <th>0</th>\n",
       "      <td>149990.0</td>\n",
       "      <td>10309.0</td>\n",
       "      <td>238340.0</td>\n",
       "      <td>8.0</td>\n",
       "      <td>05/01/2020</td>\n",
       "      <td>JPMorgan Chase Bank, National Association</td>\n",
       "    </tr>\n",
       "    <tr>\n",
       "      <th>1</th>\n",
       "      <td>149990.0</td>\n",
       "      <td>11357.0</td>\n",
       "      <td>621210.0</td>\n",
       "      <td>16.0</td>\n",
       "      <td>04/29/2020</td>\n",
       "      <td>JPMorgan Chase Bank, National Association</td>\n",
       "    </tr>\n",
       "    <tr>\n",
       "      <th>2</th>\n",
       "      <td>149987.0</td>\n",
       "      <td>11205.0</td>\n",
       "      <td>484110.0</td>\n",
       "      <td>13.0</td>\n",
       "      <td>04/28/2020</td>\n",
       "      <td>East West Bank</td>\n",
       "    </tr>\n",
       "    <tr>\n",
       "      <th>3</th>\n",
       "      <td>149982.0</td>\n",
       "      <td>11752.0</td>\n",
       "      <td>236115.0</td>\n",
       "      <td>8.0</td>\n",
       "      <td>05/01/2020</td>\n",
       "      <td>JPMorgan Chase Bank, National Association</td>\n",
       "    </tr>\n",
       "    <tr>\n",
       "      <th>4</th>\n",
       "      <td>149979.0</td>\n",
       "      <td>10005.0</td>\n",
       "      <td>541840.0</td>\n",
       "      <td>11.0</td>\n",
       "      <td>05/01/2020</td>\n",
       "      <td>Haddon Savings Bank</td>\n",
       "    </tr>\n",
       "  </tbody>\n",
       "</table>\n",
       "</div>"
      ],
      "text/plain": [
       "   Loan Amount      Zip  NAICS Code  Jobs Retained Date Approved  \\\n",
       "0     149990.0  10309.0    238340.0            8.0    05/01/2020   \n",
       "1     149990.0  11357.0    621210.0           16.0    04/29/2020   \n",
       "2     149987.0  11205.0    484110.0           13.0    04/28/2020   \n",
       "3     149982.0  11752.0    236115.0            8.0    05/01/2020   \n",
       "4     149979.0  10005.0    541840.0           11.0    05/01/2020   \n",
       "\n",
       "                                      Lender  \n",
       "0  JPMorgan Chase Bank, National Association  \n",
       "1  JPMorgan Chase Bank, National Association  \n",
       "2                             East West Bank  \n",
       "3  JPMorgan Chase Bank, National Association  \n",
       "4                        Haddon Savings Bank  "
      ]
     },
     "execution_count": 36,
     "metadata": {},
     "output_type": "execute_result"
    }
   ],
   "source": [
    "SBA_PPP_df.head()"
   ]
  },
  {
   "cell_type": "code",
   "execution_count": 37,
   "metadata": {},
   "outputs": [
    {
     "data": {
      "text/html": [
       "<div>\n",
       "<style scoped>\n",
       "    .dataframe tbody tr th:only-of-type {\n",
       "        vertical-align: middle;\n",
       "    }\n",
       "\n",
       "    .dataframe tbody tr th {\n",
       "        vertical-align: top;\n",
       "    }\n",
       "\n",
       "    .dataframe thead th {\n",
       "        text-align: right;\n",
       "    }\n",
       "</style>\n",
       "<table border=\"1\" class=\"dataframe\">\n",
       "  <thead>\n",
       "    <tr style=\"text-align: right;\">\n",
       "      <th></th>\n",
       "      <th>Loan Amount</th>\n",
       "      <th>Zip</th>\n",
       "      <th>NAICS Code</th>\n",
       "      <th>Jobs Retained</th>\n",
       "    </tr>\n",
       "  </thead>\n",
       "  <tbody>\n",
       "    <tr>\n",
       "      <th>count</th>\n",
       "      <td>277012.000000</td>\n",
       "      <td>277009.000000</td>\n",
       "      <td>262569.000000</td>\n",
       "      <td>259993.000000</td>\n",
       "    </tr>\n",
       "    <tr>\n",
       "      <th>mean</th>\n",
       "      <td>34367.988932</td>\n",
       "      <td>11607.617615</td>\n",
       "      <td>559919.012797</td>\n",
       "      <td>4.299123</td>\n",
       "    </tr>\n",
       "    <tr>\n",
       "      <th>std</th>\n",
       "      <td>33516.232568</td>\n",
       "      <td>1349.973813</td>\n",
       "      <td>176573.930723</td>\n",
       "      <td>9.983155</td>\n",
       "    </tr>\n",
       "    <tr>\n",
       "      <th>min</th>\n",
       "      <td>0.000000</td>\n",
       "      <td>1427.000000</td>\n",
       "      <td>111110.000000</td>\n",
       "      <td>0.000000</td>\n",
       "    </tr>\n",
       "    <tr>\n",
       "      <th>25%</th>\n",
       "      <td>10400.000000</td>\n",
       "      <td>10553.000000</td>\n",
       "      <td>451211.000000</td>\n",
       "      <td>1.000000</td>\n",
       "    </tr>\n",
       "    <tr>\n",
       "      <th>50%</th>\n",
       "      <td>20833.000000</td>\n",
       "      <td>11357.000000</td>\n",
       "      <td>541430.000000</td>\n",
       "      <td>2.000000</td>\n",
       "    </tr>\n",
       "    <tr>\n",
       "      <th>75%</th>\n",
       "      <td>47162.750000</td>\n",
       "      <td>12075.000000</td>\n",
       "      <td>711190.000000</td>\n",
       "      <td>5.000000</td>\n",
       "    </tr>\n",
       "    <tr>\n",
       "      <th>max</th>\n",
       "      <td>149990.000000</td>\n",
       "      <td>85201.000000</td>\n",
       "      <td>999990.000000</td>\n",
       "      <td>500.000000</td>\n",
       "    </tr>\n",
       "  </tbody>\n",
       "</table>\n",
       "</div>"
      ],
      "text/plain": [
       "         Loan Amount            Zip     NAICS Code  Jobs Retained\n",
       "count  277012.000000  277009.000000  262569.000000  259993.000000\n",
       "mean    34367.988932   11607.617615  559919.012797       4.299123\n",
       "std     33516.232568    1349.973813  176573.930723       9.983155\n",
       "min         0.000000    1427.000000  111110.000000       0.000000\n",
       "25%     10400.000000   10553.000000  451211.000000       1.000000\n",
       "50%     20833.000000   11357.000000  541430.000000       2.000000\n",
       "75%     47162.750000   12075.000000  711190.000000       5.000000\n",
       "max    149990.000000   85201.000000  999990.000000     500.000000"
      ]
     },
     "execution_count": 37,
     "metadata": {},
     "output_type": "execute_result"
    }
   ],
   "source": [
    "SBA_PPP_df.describe()"
   ]
  },
  {
   "cell_type": "code",
   "execution_count": 44,
   "metadata": {},
   "outputs": [],
   "source": [
    "#sorting the value of NAICS Code with for the restaurant industry: 722511, 722513, 722410, 711110. \n",
    "\n",
    "SBA_PPP_NAICS = SBA_PPP_df.loc[SBA_PPP_df['NAICS Code'].isin([722511, 722513, 722410, 711110])]"
   ]
  },
  {
   "cell_type": "code",
   "execution_count": 46,
   "metadata": {},
   "outputs": [
    {
     "data": {
      "text/html": [
       "<div>\n",
       "<style scoped>\n",
       "    .dataframe tbody tr th:only-of-type {\n",
       "        vertical-align: middle;\n",
       "    }\n",
       "\n",
       "    .dataframe tbody tr th {\n",
       "        vertical-align: top;\n",
       "    }\n",
       "\n",
       "    .dataframe thead th {\n",
       "        text-align: right;\n",
       "    }\n",
       "</style>\n",
       "<table border=\"1\" class=\"dataframe\">\n",
       "  <thead>\n",
       "    <tr style=\"text-align: right;\">\n",
       "      <th></th>\n",
       "      <th>Loan Amount</th>\n",
       "      <th>Zip</th>\n",
       "      <th>NAICS Code</th>\n",
       "      <th>Jobs Retained</th>\n",
       "      <th>Date Approved</th>\n",
       "      <th>Lender</th>\n",
       "    </tr>\n",
       "  </thead>\n",
       "  <tbody>\n",
       "    <tr>\n",
       "      <th>90379</th>\n",
       "      <td>36163.12</td>\n",
       "      <td>11201.0</td>\n",
       "      <td>722511.0</td>\n",
       "      <td>10.0</td>\n",
       "      <td>05/04/2020</td>\n",
       "      <td>Ponce Bank</td>\n",
       "    </tr>\n",
       "  </tbody>\n",
       "</table>\n",
       "</div>"
      ],
      "text/plain": [
       "       Loan Amount      Zip  NAICS Code  Jobs Retained Date Approved  \\\n",
       "90379     36163.12  11201.0    722511.0           10.0    05/04/2020   \n",
       "\n",
       "           Lender  \n",
       "90379  Ponce Bank  "
      ]
     },
     "execution_count": 46,
     "metadata": {},
     "output_type": "execute_result"
    }
   ],
   "source": [
    "SBA_PPP_NAICS.sample()"
   ]
  },
  {
   "cell_type": "code",
   "execution_count": 48,
   "metadata": {},
   "outputs": [
    {
     "data": {
      "text/plain": [
       "array([ 6390., 10001., 10002., ..., 14903., 14904., 14905.])"
      ]
     },
     "execution_count": 48,
     "metadata": {},
     "output_type": "execute_result"
    }
   ],
   "source": [
    "np.unique(SBA_PPP_NAICS['Zip'])"
   ]
  },
  {
   "cell_type": "code",
   "execution_count": 85,
   "metadata": {},
   "outputs": [],
   "source": [
    "#list of the low income zip codes\n",
    "\n",
    "low_income_zip = [10460, 10459, 10474, 10455, 11355, 10452, 10454, 10457, 10456, 10453]"
   ]
  },
  {
   "cell_type": "code",
   "execution_count": 86,
   "metadata": {},
   "outputs": [],
   "source": [
    "SBA_PPP_Zip_Low_Income = SBA_PPP_NAICS.loc[SBA_PPP_NAICS['Zip'].isin(low_income_zip)].sort_values(by=['Date Approved'])"
   ]
  },
  {
   "cell_type": "code",
   "execution_count": 87,
   "metadata": {},
   "outputs": [
    {
     "data": {
      "text/html": [
       "<div>\n",
       "<style scoped>\n",
       "    .dataframe tbody tr th:only-of-type {\n",
       "        vertical-align: middle;\n",
       "    }\n",
       "\n",
       "    .dataframe tbody tr th {\n",
       "        vertical-align: top;\n",
       "    }\n",
       "\n",
       "    .dataframe thead th {\n",
       "        text-align: right;\n",
       "    }\n",
       "</style>\n",
       "<table border=\"1\" class=\"dataframe\">\n",
       "  <thead>\n",
       "    <tr style=\"text-align: right;\">\n",
       "      <th></th>\n",
       "      <th>Loan Amount</th>\n",
       "      <th>Zip</th>\n",
       "      <th>NAICS Code</th>\n",
       "      <th>Jobs Retained</th>\n",
       "      <th>Date Approved</th>\n",
       "      <th>Lender</th>\n",
       "    </tr>\n",
       "  </thead>\n",
       "  <tbody>\n",
       "    <tr>\n",
       "      <th>23795</th>\n",
       "      <td>92975.0</td>\n",
       "      <td>10453.0</td>\n",
       "      <td>722513.0</td>\n",
       "      <td>14.0</td>\n",
       "      <td>04/10/2020</td>\n",
       "      <td>Pacific Premier Bank</td>\n",
       "    </tr>\n",
       "    <tr>\n",
       "      <th>15153</th>\n",
       "      <td>108700.0</td>\n",
       "      <td>11355.0</td>\n",
       "      <td>722511.0</td>\n",
       "      <td>20.0</td>\n",
       "      <td>04/11/2020</td>\n",
       "      <td>East West Bank</td>\n",
       "    </tr>\n",
       "    <tr>\n",
       "      <th>57683</th>\n",
       "      <td>55067.5</td>\n",
       "      <td>10452.0</td>\n",
       "      <td>722513.0</td>\n",
       "      <td>13.0</td>\n",
       "      <td>04/13/2020</td>\n",
       "      <td>Spring Bank</td>\n",
       "    </tr>\n",
       "    <tr>\n",
       "      <th>84681</th>\n",
       "      <td>38832.0</td>\n",
       "      <td>10459.0</td>\n",
       "      <td>722513.0</td>\n",
       "      <td>6.0</td>\n",
       "      <td>04/14/2020</td>\n",
       "      <td>Pacific Premier Bank</td>\n",
       "    </tr>\n",
       "    <tr>\n",
       "      <th>84424</th>\n",
       "      <td>38982.0</td>\n",
       "      <td>10460.0</td>\n",
       "      <td>722513.0</td>\n",
       "      <td>8.0</td>\n",
       "      <td>04/14/2020</td>\n",
       "      <td>Pacific Premier Bank</td>\n",
       "    </tr>\n",
       "  </tbody>\n",
       "</table>\n",
       "</div>"
      ],
      "text/plain": [
       "       Loan Amount      Zip  NAICS Code  Jobs Retained Date Approved  \\\n",
       "23795      92975.0  10453.0    722513.0           14.0    04/10/2020   \n",
       "15153     108700.0  11355.0    722511.0           20.0    04/11/2020   \n",
       "57683      55067.5  10452.0    722513.0           13.0    04/13/2020   \n",
       "84681      38832.0  10459.0    722513.0            6.0    04/14/2020   \n",
       "84424      38982.0  10460.0    722513.0            8.0    04/14/2020   \n",
       "\n",
       "                     Lender  \n",
       "23795  Pacific Premier Bank  \n",
       "15153        East West Bank  \n",
       "57683           Spring Bank  \n",
       "84681  Pacific Premier Bank  \n",
       "84424  Pacific Premier Bank  "
      ]
     },
     "execution_count": 87,
     "metadata": {},
     "output_type": "execute_result"
    }
   ],
   "source": [
    "SBA_PPP_Zip_Low_Income.head()"
   ]
  },
  {
   "cell_type": "code",
   "execution_count": 59,
   "metadata": {},
   "outputs": [
    {
     "data": {
      "text/html": [
       "<div>\n",
       "<style scoped>\n",
       "    .dataframe tbody tr th:only-of-type {\n",
       "        vertical-align: middle;\n",
       "    }\n",
       "\n",
       "    .dataframe tbody tr th {\n",
       "        vertical-align: top;\n",
       "    }\n",
       "\n",
       "    .dataframe thead th {\n",
       "        text-align: right;\n",
       "    }\n",
       "</style>\n",
       "<table border=\"1\" class=\"dataframe\">\n",
       "  <thead>\n",
       "    <tr style=\"text-align: right;\">\n",
       "      <th></th>\n",
       "      <th>Loan Amount</th>\n",
       "      <th>Zip</th>\n",
       "      <th>NAICS Code</th>\n",
       "      <th>Jobs Retained</th>\n",
       "    </tr>\n",
       "  </thead>\n",
       "  <tbody>\n",
       "    <tr>\n",
       "      <th>count</th>\n",
       "      <td>262.000000</td>\n",
       "      <td>262.000000</td>\n",
       "      <td>262.000000</td>\n",
       "      <td>254.000000</td>\n",
       "    </tr>\n",
       "    <tr>\n",
       "      <th>mean</th>\n",
       "      <td>24841.841107</td>\n",
       "      <td>10727.152672</td>\n",
       "      <td>722376.152672</td>\n",
       "      <td>4.598425</td>\n",
       "    </tr>\n",
       "    <tr>\n",
       "      <th>std</th>\n",
       "      <td>25317.033469</td>\n",
       "      <td>413.326353</td>\n",
       "      <td>1215.035486</td>\n",
       "      <td>5.201489</td>\n",
       "    </tr>\n",
       "    <tr>\n",
       "      <th>min</th>\n",
       "      <td>2100.000000</td>\n",
       "      <td>10452.000000</td>\n",
       "      <td>711110.000000</td>\n",
       "      <td>0.000000</td>\n",
       "    </tr>\n",
       "    <tr>\n",
       "      <th>25%</th>\n",
       "      <td>9686.500000</td>\n",
       "      <td>10454.000000</td>\n",
       "      <td>722511.000000</td>\n",
       "      <td>2.000000</td>\n",
       "    </tr>\n",
       "    <tr>\n",
       "      <th>50%</th>\n",
       "      <td>14439.250000</td>\n",
       "      <td>10457.000000</td>\n",
       "      <td>722511.000000</td>\n",
       "      <td>3.000000</td>\n",
       "    </tr>\n",
       "    <tr>\n",
       "      <th>75%</th>\n",
       "      <td>29097.887500</td>\n",
       "      <td>11355.000000</td>\n",
       "      <td>722513.000000</td>\n",
       "      <td>6.000000</td>\n",
       "    </tr>\n",
       "    <tr>\n",
       "      <th>max</th>\n",
       "      <td>139104.000000</td>\n",
       "      <td>11355.000000</td>\n",
       "      <td>722513.000000</td>\n",
       "      <td>43.000000</td>\n",
       "    </tr>\n",
       "  </tbody>\n",
       "</table>\n",
       "</div>"
      ],
      "text/plain": [
       "         Loan Amount           Zip     NAICS Code  Jobs Retained\n",
       "count     262.000000    262.000000     262.000000     254.000000\n",
       "mean    24841.841107  10727.152672  722376.152672       4.598425\n",
       "std     25317.033469    413.326353    1215.035486       5.201489\n",
       "min      2100.000000  10452.000000  711110.000000       0.000000\n",
       "25%      9686.500000  10454.000000  722511.000000       2.000000\n",
       "50%     14439.250000  10457.000000  722511.000000       3.000000\n",
       "75%     29097.887500  11355.000000  722513.000000       6.000000\n",
       "max    139104.000000  11355.000000  722513.000000      43.000000"
      ]
     },
     "execution_count": 59,
     "metadata": {},
     "output_type": "execute_result"
    }
   ],
   "source": [
    "SBA_PPP_Zip_Low_Income.describe()"
   ]
  },
  {
   "cell_type": "code",
   "execution_count": 60,
   "metadata": {},
   "outputs": [],
   "source": [
    "#list of the middle income zip codes\n",
    "middle_income_zip = [10044, 11375, 11238, 11360, 11101, 10464, 11694, 10309, 10009, 11357]"
   ]
  },
  {
   "cell_type": "code",
   "execution_count": 116,
   "metadata": {},
   "outputs": [],
   "source": [
    "SBA_PPP_Zip_Middle_Income = SBA_PPP_NAICS.loc[SBA_PPP_NAICS['Zip'].isin(middle_income_zip)].sort_values(by=['Date Approved'])"
   ]
  },
  {
   "cell_type": "code",
   "execution_count": 117,
   "metadata": {},
   "outputs": [
    {
     "data": {
      "text/html": [
       "<div>\n",
       "<style scoped>\n",
       "    .dataframe tbody tr th:only-of-type {\n",
       "        vertical-align: middle;\n",
       "    }\n",
       "\n",
       "    .dataframe tbody tr th {\n",
       "        vertical-align: top;\n",
       "    }\n",
       "\n",
       "    .dataframe thead th {\n",
       "        text-align: right;\n",
       "    }\n",
       "</style>\n",
       "<table border=\"1\" class=\"dataframe\">\n",
       "  <thead>\n",
       "    <tr style=\"text-align: right;\">\n",
       "      <th></th>\n",
       "      <th>Loan Amount</th>\n",
       "      <th>Zip</th>\n",
       "      <th>NAICS Code</th>\n",
       "      <th>Jobs Retained</th>\n",
       "    </tr>\n",
       "  </thead>\n",
       "  <tbody>\n",
       "    <tr>\n",
       "      <th>count</th>\n",
       "      <td>448.000000</td>\n",
       "      <td>448.000000</td>\n",
       "      <td>448.000000</td>\n",
       "      <td>434.000000</td>\n",
       "    </tr>\n",
       "    <tr>\n",
       "      <th>mean</th>\n",
       "      <td>43050.659844</td>\n",
       "      <td>10859.482143</td>\n",
       "      <td>722473.250000</td>\n",
       "      <td>6.603687</td>\n",
       "    </tr>\n",
       "    <tr>\n",
       "      <th>std</th>\n",
       "      <td>36021.863544</td>\n",
       "      <td>568.639819</td>\n",
       "      <td>539.131628</td>\n",
       "      <td>6.233678</td>\n",
       "    </tr>\n",
       "    <tr>\n",
       "      <th>min</th>\n",
       "      <td>1276.000000</td>\n",
       "      <td>10009.000000</td>\n",
       "      <td>711110.000000</td>\n",
       "      <td>0.000000</td>\n",
       "    </tr>\n",
       "    <tr>\n",
       "      <th>25%</th>\n",
       "      <td>15440.250000</td>\n",
       "      <td>10009.000000</td>\n",
       "      <td>722511.000000</td>\n",
       "      <td>2.000000</td>\n",
       "    </tr>\n",
       "    <tr>\n",
       "      <th>50%</th>\n",
       "      <td>30578.000000</td>\n",
       "      <td>11101.000000</td>\n",
       "      <td>722511.000000</td>\n",
       "      <td>5.000000</td>\n",
       "    </tr>\n",
       "    <tr>\n",
       "      <th>75%</th>\n",
       "      <td>57958.927500</td>\n",
       "      <td>11238.000000</td>\n",
       "      <td>722513.000000</td>\n",
       "      <td>10.000000</td>\n",
       "    </tr>\n",
       "    <tr>\n",
       "      <th>max</th>\n",
       "      <td>149700.000000</td>\n",
       "      <td>11694.000000</td>\n",
       "      <td>722513.000000</td>\n",
       "      <td>46.000000</td>\n",
       "    </tr>\n",
       "  </tbody>\n",
       "</table>\n",
       "</div>"
      ],
      "text/plain": [
       "         Loan Amount           Zip     NAICS Code  Jobs Retained\n",
       "count     448.000000    448.000000     448.000000     434.000000\n",
       "mean    43050.659844  10859.482143  722473.250000       6.603687\n",
       "std     36021.863544    568.639819     539.131628       6.233678\n",
       "min      1276.000000  10009.000000  711110.000000       0.000000\n",
       "25%     15440.250000  10009.000000  722511.000000       2.000000\n",
       "50%     30578.000000  11101.000000  722511.000000       5.000000\n",
       "75%     57958.927500  11238.000000  722513.000000      10.000000\n",
       "max    149700.000000  11694.000000  722513.000000      46.000000"
      ]
     },
     "execution_count": 117,
     "metadata": {},
     "output_type": "execute_result"
    }
   ],
   "source": [
    "SBA_PPP_Zip_Middle_Income.describe()"
   ]
  },
  {
   "cell_type": "code",
   "execution_count": 65,
   "metadata": {},
   "outputs": [],
   "source": [
    "high_income_zip = [10007, 10065, 10021, 10022, 10075, 10013, 10017, 10028, 10023, 10024]"
   ]
  },
  {
   "cell_type": "code",
   "execution_count": 119,
   "metadata": {},
   "outputs": [],
   "source": [
    "SBA_PPP_Zip_High_Income = SBA_PPP_NAICS.loc[SBA_PPP_NAICS['Zip'].isin(high_income_zip)].sort_values(by=['Date Approved'])"
   ]
  },
  {
   "cell_type": "code",
   "execution_count": 120,
   "metadata": {},
   "outputs": [
    {
     "data": {
      "text/html": [
       "<div>\n",
       "<style scoped>\n",
       "    .dataframe tbody tr th:only-of-type {\n",
       "        vertical-align: middle;\n",
       "    }\n",
       "\n",
       "    .dataframe tbody tr th {\n",
       "        vertical-align: top;\n",
       "    }\n",
       "\n",
       "    .dataframe thead th {\n",
       "        text-align: right;\n",
       "    }\n",
       "</style>\n",
       "<table border=\"1\" class=\"dataframe\">\n",
       "  <thead>\n",
       "    <tr style=\"text-align: right;\">\n",
       "      <th></th>\n",
       "      <th>Loan Amount</th>\n",
       "      <th>Zip</th>\n",
       "      <th>NAICS Code</th>\n",
       "      <th>Jobs Retained</th>\n",
       "    </tr>\n",
       "  </thead>\n",
       "  <tbody>\n",
       "    <tr>\n",
       "      <th>count</th>\n",
       "      <td>589.000000</td>\n",
       "      <td>589.000000</td>\n",
       "      <td>589.000000</td>\n",
       "      <td>576.000000</td>\n",
       "    </tr>\n",
       "    <tr>\n",
       "      <th>mean</th>\n",
       "      <td>59194.687759</td>\n",
       "      <td>10023.079796</td>\n",
       "      <td>722136.724958</td>\n",
       "      <td>8.975694</td>\n",
       "    </tr>\n",
       "    <tr>\n",
       "      <th>std</th>\n",
       "      <td>39071.813964</td>\n",
       "      <td>14.989296</td>\n",
       "      <td>2015.072415</td>\n",
       "      <td>8.075046</td>\n",
       "    </tr>\n",
       "    <tr>\n",
       "      <th>min</th>\n",
       "      <td>2310.000000</td>\n",
       "      <td>10007.000000</td>\n",
       "      <td>711110.000000</td>\n",
       "      <td>0.000000</td>\n",
       "    </tr>\n",
       "    <tr>\n",
       "      <th>25%</th>\n",
       "      <td>25815.000000</td>\n",
       "      <td>10013.000000</td>\n",
       "      <td>722511.000000</td>\n",
       "      <td>3.000000</td>\n",
       "    </tr>\n",
       "    <tr>\n",
       "      <th>50%</th>\n",
       "      <td>52264.470000</td>\n",
       "      <td>10022.000000</td>\n",
       "      <td>722511.000000</td>\n",
       "      <td>8.000000</td>\n",
       "    </tr>\n",
       "    <tr>\n",
       "      <th>75%</th>\n",
       "      <td>84440.000000</td>\n",
       "      <td>10024.000000</td>\n",
       "      <td>722513.000000</td>\n",
       "      <td>13.000000</td>\n",
       "    </tr>\n",
       "    <tr>\n",
       "      <th>max</th>\n",
       "      <td>149900.000000</td>\n",
       "      <td>10075.000000</td>\n",
       "      <td>722513.000000</td>\n",
       "      <td>62.000000</td>\n",
       "    </tr>\n",
       "  </tbody>\n",
       "</table>\n",
       "</div>"
      ],
      "text/plain": [
       "         Loan Amount           Zip     NAICS Code  Jobs Retained\n",
       "count     589.000000    589.000000     589.000000     576.000000\n",
       "mean    59194.687759  10023.079796  722136.724958       8.975694\n",
       "std     39071.813964     14.989296    2015.072415       8.075046\n",
       "min      2310.000000  10007.000000  711110.000000       0.000000\n",
       "25%     25815.000000  10013.000000  722511.000000       3.000000\n",
       "50%     52264.470000  10022.000000  722511.000000       8.000000\n",
       "75%     84440.000000  10024.000000  722513.000000      13.000000\n",
       "max    149900.000000  10075.000000  722513.000000      62.000000"
      ]
     },
     "execution_count": 120,
     "metadata": {},
     "output_type": "execute_result"
    }
   ],
   "source": [
    "SBA_PPP_Zip_High_Income.describe()"
   ]
  },
  {
   "cell_type": "markdown",
   "metadata": {},
   "source": [
    "Data Analysis "
   ]
  },
  {
   "cell_type": "markdown",
   "metadata": {},
   "source": [
    "Show a loan amounts for high / middle / low income areas. Using hvplot \n"
   ]
  },
  {
   "cell_type": "code",
   "execution_count": 114,
   "metadata": {},
   "outputs": [
    {
     "data": {
      "application/vnd.holoviews_exec.v0+json": "",
      "text/html": [
       "<div id='3408'>\n",
       "\n",
       "\n",
       "\n",
       "\n",
       "\n",
       "  <div class=\"bk-root\" id=\"5dda5f1a-3bf8-49bd-954c-db4a04b2c276\" data-root-id=\"3408\"></div>\n",
       "</div>\n",
       "<script type=\"application/javascript\">(function(root) {\n",
       "  function embed_document(root) {\n",
       "  var docs_json = {\"2970fd34-d8cd-47a6-9250-6b9da459b221\":{\"roots\":{\"references\":[{\"attributes\":{},\"id\":\"3418\",\"type\":\"CategoricalScale\"},{\"attributes\":{\"children\":[{\"id\":\"3409\"},{\"id\":\"3413\"},{\"id\":\"3532\"}],\"margin\":[0,0,0,0],\"name\":\"Row07002\",\"tags\":[\"embedded\"]},\"id\":\"3408\",\"type\":\"Row\"},{\"attributes\":{},\"id\":\"3430\",\"type\":\"PanTool\"},{\"attributes\":{\"text\":\"Loan Amount Received in Low Income Area (a red line is a mean value - $24,841.)\",\"text_color\":{\"value\":\"black\"},\"text_font_size\":{\"value\":\"12pt\"}},\"id\":\"3414\",\"type\":\"Title\"},{\"attributes\":{\"active_drag\":\"auto\",\"active_inspect\":\"auto\",\"active_multi\":null,\"active_scroll\":\"auto\",\"active_tap\":\"auto\",\"tools\":[{\"id\":\"3412\"},{\"id\":\"3429\"},{\"id\":\"3430\"},{\"id\":\"3431\"},{\"id\":\"3432\"},{\"id\":\"3433\"}]},\"id\":\"3435\",\"type\":\"Toolbar\"},{\"attributes\":{\"source\":{\"id\":\"3449\"}},\"id\":\"3456\",\"type\":\"CDSView\"},{\"attributes\":{\"line_color\":\"#1f77b3\",\"line_width\":2,\"x\":{\"field\":\"Date Approved\"},\"y\":{\"field\":\"Loan Amount\"}},\"id\":\"3452\",\"type\":\"Line\"},{\"attributes\":{\"axis\":{\"id\":\"3425\"},\"dimension\":1,\"grid_line_color\":null,\"ticker\":null},\"id\":\"3428\",\"type\":\"Grid\"},{\"attributes\":{\"bottom_units\":\"screen\",\"fill_alpha\":0.5,\"fill_color\":\"lightgrey\",\"left_units\":\"screen\",\"level\":\"overlay\",\"line_alpha\":1.0,\"line_color\":\"black\",\"line_dash\":[4,4],\"line_width\":2,\"right_units\":\"screen\",\"top_units\":\"screen\"},\"id\":\"3434\",\"type\":\"BoxAnnotation\"},{\"attributes\":{},\"id\":\"3450\",\"type\":\"Selection\"},{\"attributes\":{},\"id\":\"3426\",\"type\":\"BasicTicker\"},{\"attributes\":{\"items\":[]},\"id\":\"3464\",\"type\":\"Legend\"},{\"attributes\":{\"margin\":[5,5,5,5],\"name\":\"HSpacer07007\",\"sizing_mode\":\"stretch_width\"},\"id\":\"3532\",\"type\":\"Spacer\"},{\"attributes\":{},\"id\":\"3429\",\"type\":\"SaveTool\"},{\"attributes\":{\"end\":152804.4,\"reset_end\":152804.4,\"reset_start\":-11600.400000000001,\"start\":-11600.400000000001,\"tags\":[[[\"Loan Amount\",\"Loan Amount\",null]]]},\"id\":\"3411\",\"type\":\"Range1d\"},{\"attributes\":{\"data_source\":{\"id\":\"3449\"},\"glyph\":{\"id\":\"3452\"},\"hover_glyph\":null,\"muted_glyph\":{\"id\":\"3454\"},\"nonselection_glyph\":{\"id\":\"3453\"},\"selection_glyph\":null,\"view\":{\"id\":\"3456\"}},\"id\":\"3455\",\"type\":\"GlyphRenderer\"},{\"attributes\":{\"overlay\":{\"id\":\"3434\"}},\"id\":\"3432\",\"type\":\"BoxZoomTool\"},{\"attributes\":{},\"id\":\"3420\",\"type\":\"LinearScale\"},{\"attributes\":{},\"id\":\"3433\",\"type\":\"ResetTool\"},{\"attributes\":{\"axis\":{\"id\":\"3422\"},\"grid_line_color\":null,\"ticker\":null},\"id\":\"3424\",\"type\":\"Grid\"},{\"attributes\":{\"level\":\"glyph\",\"line_color\":\"red\",\"line_dash\":[6],\"line_width\":2.0,\"location\":24841},\"id\":\"3468\",\"type\":\"Span\"},{\"attributes\":{},\"id\":\"3462\",\"type\":\"UnionRenderers\"},{\"attributes\":{\"factors\":[\"04/10/2020\",\"04/11/2020\",\"04/13/2020\",\"04/14/2020\",\"04/15/2020\",\"04/27/2020\",\"04/28/2020\",\"04/29/2020\",\"04/30/2020\",\"05/01/2020\",\"05/02/2020\",\"05/03/2020\",\"05/04/2020\",\"05/05/2020\",\"05/06/2020\",\"05/07/2020\",\"05/08/2020\",\"05/09/2020\",\"05/10/2020\",\"05/11/2020\",\"05/12/2020\",\"05/13/2020\",\"05/14/2020\",\"05/15/2020\",\"05/16/2020\",\"05/17/2020\",\"05/18/2020\",\"05/19/2020\",\"05/20/2020\",\"05/21/2020\",\"05/22/2020\",\"05/23/2020\",\"05/26/2020\",\"05/27/2020\",\"05/28/2020\",\"05/29/2020\",\"05/31/2020\",\"06/01/2020\",\"06/02/2020\",\"06/03/2020\",\"06/04/2020\",\"06/05/2020\",\"06/08/2020\",\"06/09/2020\",\"06/10/2020\",\"06/13/2020\",\"06/14/2020\",\"06/15/2020\",\"06/16/2020\",\"06/17/2020\",\"06/18/2020\",\"06/19/2020\",\"06/22/2020\",\"06/23/2020\",\"06/24/2020\",\"06/25/2020\",\"06/26/2020\",\"06/27/2020\",\"06/28/2020\",\"06/29/2020\",\"06/30/2020\"],\"tags\":[[[\"Date Approved\",\"Date Approved\",null]]]},\"id\":\"3410\",\"type\":\"FactorRange\"},{\"attributes\":{},\"id\":\"3444\",\"type\":\"CategoricalTickFormatter\"},{\"attributes\":{\"margin\":[5,5,5,5],\"name\":\"HSpacer07006\",\"sizing_mode\":\"stretch_width\"},\"id\":\"3409\",\"type\":\"Spacer\"},{\"attributes\":{},\"id\":\"3431\",\"type\":\"WheelZoomTool\"},{\"attributes\":{},\"id\":\"3423\",\"type\":\"CategoricalTicker\"},{\"attributes\":{\"axis_label\":\"Loan Amount\",\"bounds\":\"auto\",\"formatter\":{\"id\":\"3442\"},\"major_label_orientation\":\"horizontal\",\"ticker\":{\"id\":\"3426\"}},\"id\":\"3425\",\"type\":\"LinearAxis\"},{\"attributes\":{\"axis_label\":\"Date Approved\",\"bounds\":\"auto\",\"formatter\":{\"id\":\"3444\"},\"major_label_orientation\":1.5707963267948966,\"ticker\":{\"id\":\"3423\"}},\"id\":\"3422\",\"type\":\"CategoricalAxis\"},{\"attributes\":{\"format\":\"$ %.0f\"},\"id\":\"3442\",\"type\":\"PrintfTickFormatter\"},{\"attributes\":{\"data\":{\"Date Approved\":[\"04/10/2020\",\"04/11/2020\",\"04/13/2020\",\"04/14/2020\",\"04/14/2020\",\"04/14/2020\",\"04/14/2020\",\"04/14/2020\",\"04/15/2020\",\"04/15/2020\",\"04/27/2020\",\"04/27/2020\",\"04/27/2020\",\"04/28/2020\",\"04/28/2020\",\"04/28/2020\",\"04/28/2020\",\"04/28/2020\",\"04/29/2020\",\"04/29/2020\",\"04/29/2020\",\"04/29/2020\",\"04/29/2020\",\"04/29/2020\",\"04/29/2020\",\"04/29/2020\",\"04/29/2020\",\"04/29/2020\",\"04/29/2020\",\"04/29/2020\",\"04/29/2020\",\"04/29/2020\",\"04/29/2020\",\"04/29/2020\",\"04/29/2020\",\"04/29/2020\",\"04/29/2020\",\"04/30/2020\",\"04/30/2020\",\"04/30/2020\",\"04/30/2020\",\"04/30/2020\",\"04/30/2020\",\"04/30/2020\",\"04/30/2020\",\"04/30/2020\",\"04/30/2020\",\"04/30/2020\",\"04/30/2020\",\"04/30/2020\",\"04/30/2020\",\"04/30/2020\",\"04/30/2020\",\"04/30/2020\",\"04/30/2020\",\"04/30/2020\",\"04/30/2020\",\"04/30/2020\",\"04/30/2020\",\"04/30/2020\",\"05/01/2020\",\"05/01/2020\",\"05/01/2020\",\"05/01/2020\",\"05/01/2020\",\"05/01/2020\",\"05/01/2020\",\"05/01/2020\",\"05/01/2020\",\"05/01/2020\",\"05/01/2020\",\"05/01/2020\",\"05/01/2020\",\"05/01/2020\",\"05/01/2020\",\"05/01/2020\",\"05/01/2020\",\"05/01/2020\",\"05/01/2020\",\"05/01/2020\",\"05/01/2020\",\"05/01/2020\",\"05/01/2020\",\"05/01/2020\",\"05/01/2020\",\"05/01/2020\",\"05/01/2020\",\"05/02/2020\",\"05/02/2020\",\"05/02/2020\",\"05/02/2020\",\"05/02/2020\",\"05/02/2020\",\"05/02/2020\",\"05/03/2020\",\"05/03/2020\",\"05/03/2020\",\"05/03/2020\",\"05/03/2020\",\"05/03/2020\",\"05/03/2020\",\"05/03/2020\",\"05/03/2020\",\"05/03/2020\",\"05/03/2020\",\"05/03/2020\",\"05/03/2020\",\"05/03/2020\",\"05/03/2020\",\"05/03/2020\",\"05/03/2020\",\"05/03/2020\",\"05/03/2020\",\"05/04/2020\",\"05/04/2020\",\"05/04/2020\",\"05/04/2020\",\"05/04/2020\",\"05/05/2020\",\"05/05/2020\",\"05/05/2020\",\"05/05/2020\",\"05/05/2020\",\"05/05/2020\",\"05/05/2020\",\"05/06/2020\",\"05/06/2020\",\"05/06/2020\",\"05/06/2020\",\"05/06/2020\",\"05/06/2020\",\"05/06/2020\",\"05/06/2020\",\"05/06/2020\",\"05/06/2020\",\"05/06/2020\",\"05/07/2020\",\"05/07/2020\",\"05/07/2020\",\"05/07/2020\",\"05/07/2020\",\"05/07/2020\",\"05/07/2020\",\"05/08/2020\",\"05/08/2020\",\"05/08/2020\",\"05/08/2020\",\"05/08/2020\",\"05/08/2020\",\"05/08/2020\",\"05/08/2020\",\"05/09/2020\",\"05/10/2020\",\"05/11/2020\",\"05/11/2020\",\"05/11/2020\",\"05/12/2020\",\"05/12/2020\",\"05/12/2020\",\"05/12/2020\",\"05/12/2020\",\"05/12/2020\",\"05/12/2020\",\"05/13/2020\",\"05/13/2020\",\"05/13/2020\",\"05/14/2020\",\"05/14/2020\",\"05/14/2020\",\"05/14/2020\",\"05/14/2020\",\"05/14/2020\",\"05/14/2020\",\"05/14/2020\",\"05/15/2020\",\"05/15/2020\",\"05/16/2020\",\"05/17/2020\",\"05/18/2020\",\"05/18/2020\",\"05/18/2020\",\"05/18/2020\",\"05/18/2020\",\"05/19/2020\",\"05/19/2020\",\"05/19/2020\",\"05/19/2020\",\"05/19/2020\",\"05/20/2020\",\"05/20/2020\",\"05/20/2020\",\"05/21/2020\",\"05/21/2020\",\"05/21/2020\",\"05/21/2020\",\"05/22/2020\",\"05/22/2020\",\"05/22/2020\",\"05/23/2020\",\"05/26/2020\",\"05/26/2020\",\"05/26/2020\",\"05/26/2020\",\"05/26/2020\",\"05/26/2020\",\"05/26/2020\",\"05/26/2020\",\"05/27/2020\",\"05/27/2020\",\"05/28/2020\",\"05/28/2020\",\"05/29/2020\",\"05/31/2020\",\"06/01/2020\",\"06/01/2020\",\"06/02/2020\",\"06/03/2020\",\"06/04/2020\",\"06/04/2020\",\"06/05/2020\",\"06/05/2020\",\"06/08/2020\",\"06/08/2020\",\"06/08/2020\",\"06/09/2020\",\"06/10/2020\",\"06/13/2020\",\"06/13/2020\",\"06/14/2020\",\"06/14/2020\",\"06/15/2020\",\"06/15/2020\",\"06/15/2020\",\"06/15/2020\",\"06/16/2020\",\"06/17/2020\",\"06/17/2020\",\"06/18/2020\",\"06/18/2020\",\"06/18/2020\",\"06/19/2020\",\"06/22/2020\",\"06/22/2020\",\"06/23/2020\",\"06/24/2020\",\"06/24/2020\",\"06/25/2020\",\"06/25/2020\",\"06/25/2020\",\"06/26/2020\",\"06/26/2020\",\"06/26/2020\",\"06/26/2020\",\"06/26/2020\",\"06/27/2020\",\"06/27/2020\",\"06/28/2020\",\"06/29/2020\",\"06/29/2020\",\"06/29/2020\",\"06/30/2020\",\"06/30/2020\"],\"Date_Approved\":[\"04/10/2020\",\"04/11/2020\",\"04/13/2020\",\"04/14/2020\",\"04/14/2020\",\"04/14/2020\",\"04/14/2020\",\"04/14/2020\",\"04/15/2020\",\"04/15/2020\",\"04/27/2020\",\"04/27/2020\",\"04/27/2020\",\"04/28/2020\",\"04/28/2020\",\"04/28/2020\",\"04/28/2020\",\"04/28/2020\",\"04/29/2020\",\"04/29/2020\",\"04/29/2020\",\"04/29/2020\",\"04/29/2020\",\"04/29/2020\",\"04/29/2020\",\"04/29/2020\",\"04/29/2020\",\"04/29/2020\",\"04/29/2020\",\"04/29/2020\",\"04/29/2020\",\"04/29/2020\",\"04/29/2020\",\"04/29/2020\",\"04/29/2020\",\"04/29/2020\",\"04/29/2020\",\"04/30/2020\",\"04/30/2020\",\"04/30/2020\",\"04/30/2020\",\"04/30/2020\",\"04/30/2020\",\"04/30/2020\",\"04/30/2020\",\"04/30/2020\",\"04/30/2020\",\"04/30/2020\",\"04/30/2020\",\"04/30/2020\",\"04/30/2020\",\"04/30/2020\",\"04/30/2020\",\"04/30/2020\",\"04/30/2020\",\"04/30/2020\",\"04/30/2020\",\"04/30/2020\",\"04/30/2020\",\"04/30/2020\",\"05/01/2020\",\"05/01/2020\",\"05/01/2020\",\"05/01/2020\",\"05/01/2020\",\"05/01/2020\",\"05/01/2020\",\"05/01/2020\",\"05/01/2020\",\"05/01/2020\",\"05/01/2020\",\"05/01/2020\",\"05/01/2020\",\"05/01/2020\",\"05/01/2020\",\"05/01/2020\",\"05/01/2020\",\"05/01/2020\",\"05/01/2020\",\"05/01/2020\",\"05/01/2020\",\"05/01/2020\",\"05/01/2020\",\"05/01/2020\",\"05/01/2020\",\"05/01/2020\",\"05/01/2020\",\"05/02/2020\",\"05/02/2020\",\"05/02/2020\",\"05/02/2020\",\"05/02/2020\",\"05/02/2020\",\"05/02/2020\",\"05/03/2020\",\"05/03/2020\",\"05/03/2020\",\"05/03/2020\",\"05/03/2020\",\"05/03/2020\",\"05/03/2020\",\"05/03/2020\",\"05/03/2020\",\"05/03/2020\",\"05/03/2020\",\"05/03/2020\",\"05/03/2020\",\"05/03/2020\",\"05/03/2020\",\"05/03/2020\",\"05/03/2020\",\"05/03/2020\",\"05/03/2020\",\"05/04/2020\",\"05/04/2020\",\"05/04/2020\",\"05/04/2020\",\"05/04/2020\",\"05/05/2020\",\"05/05/2020\",\"05/05/2020\",\"05/05/2020\",\"05/05/2020\",\"05/05/2020\",\"05/05/2020\",\"05/06/2020\",\"05/06/2020\",\"05/06/2020\",\"05/06/2020\",\"05/06/2020\",\"05/06/2020\",\"05/06/2020\",\"05/06/2020\",\"05/06/2020\",\"05/06/2020\",\"05/06/2020\",\"05/07/2020\",\"05/07/2020\",\"05/07/2020\",\"05/07/2020\",\"05/07/2020\",\"05/07/2020\",\"05/07/2020\",\"05/08/2020\",\"05/08/2020\",\"05/08/2020\",\"05/08/2020\",\"05/08/2020\",\"05/08/2020\",\"05/08/2020\",\"05/08/2020\",\"05/09/2020\",\"05/10/2020\",\"05/11/2020\",\"05/11/2020\",\"05/11/2020\",\"05/12/2020\",\"05/12/2020\",\"05/12/2020\",\"05/12/2020\",\"05/12/2020\",\"05/12/2020\",\"05/12/2020\",\"05/13/2020\",\"05/13/2020\",\"05/13/2020\",\"05/14/2020\",\"05/14/2020\",\"05/14/2020\",\"05/14/2020\",\"05/14/2020\",\"05/14/2020\",\"05/14/2020\",\"05/14/2020\",\"05/15/2020\",\"05/15/2020\",\"05/16/2020\",\"05/17/2020\",\"05/18/2020\",\"05/18/2020\",\"05/18/2020\",\"05/18/2020\",\"05/18/2020\",\"05/19/2020\",\"05/19/2020\",\"05/19/2020\",\"05/19/2020\",\"05/19/2020\",\"05/20/2020\",\"05/20/2020\",\"05/20/2020\",\"05/21/2020\",\"05/21/2020\",\"05/21/2020\",\"05/21/2020\",\"05/22/2020\",\"05/22/2020\",\"05/22/2020\",\"05/23/2020\",\"05/26/2020\",\"05/26/2020\",\"05/26/2020\",\"05/26/2020\",\"05/26/2020\",\"05/26/2020\",\"05/26/2020\",\"05/26/2020\",\"05/27/2020\",\"05/27/2020\",\"05/28/2020\",\"05/28/2020\",\"05/29/2020\",\"05/31/2020\",\"06/01/2020\",\"06/01/2020\",\"06/02/2020\",\"06/03/2020\",\"06/04/2020\",\"06/04/2020\",\"06/05/2020\",\"06/05/2020\",\"06/08/2020\",\"06/08/2020\",\"06/08/2020\",\"06/09/2020\",\"06/10/2020\",\"06/13/2020\",\"06/13/2020\",\"06/14/2020\",\"06/14/2020\",\"06/15/2020\",\"06/15/2020\",\"06/15/2020\",\"06/15/2020\",\"06/16/2020\",\"06/17/2020\",\"06/17/2020\",\"06/18/2020\",\"06/18/2020\",\"06/18/2020\",\"06/19/2020\",\"06/22/2020\",\"06/22/2020\",\"06/23/2020\",\"06/24/2020\",\"06/24/2020\",\"06/25/2020\",\"06/25/2020\",\"06/25/2020\",\"06/26/2020\",\"06/26/2020\",\"06/26/2020\",\"06/26/2020\",\"06/26/2020\",\"06/27/2020\",\"06/27/2020\",\"06/28/2020\",\"06/29/2020\",\"06/29/2020\",\"06/29/2020\",\"06/30/2020\",\"06/30/2020\"],\"Loan Amount\":{\"__ndarray__\":\"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\",\"dtype\":\"float64\",\"order\":\"little\",\"shape\":[262]},\"Loan_Amount\":{\"__ndarray__\":\"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\",\"dtype\":\"float64\",\"order\":\"little\",\"shape\":[262]}},\"selected\":{\"id\":\"3450\"},\"selection_policy\":{\"id\":\"3462\"}},\"id\":\"3449\",\"type\":\"ColumnDataSource\"},{\"attributes\":{\"align\":null,\"below\":[{\"id\":\"3422\"}],\"center\":[{\"id\":\"3424\"},{\"id\":\"3428\"},{\"id\":\"3464\"}],\"left\":[{\"id\":\"3425\"}],\"margin\":null,\"min_border_bottom\":10,\"min_border_left\":10,\"min_border_right\":10,\"min_border_top\":10,\"plot_height\":400,\"plot_width\":1000,\"renderers\":[{\"id\":\"3455\"},{\"id\":\"3468\"}],\"sizing_mode\":\"fixed\",\"title\":{\"id\":\"3414\"},\"toolbar\":{\"id\":\"3435\"},\"x_range\":{\"id\":\"3410\"},\"x_scale\":{\"id\":\"3418\"},\"y_range\":{\"id\":\"3411\"},\"y_scale\":{\"id\":\"3420\"}},\"id\":\"3413\",\"subtype\":\"Figure\",\"type\":\"Plot\"},{\"attributes\":{\"line_alpha\":0.2,\"line_color\":\"#1f77b3\",\"line_width\":2,\"x\":{\"field\":\"Date Approved\"},\"y\":{\"field\":\"Loan Amount\"}},\"id\":\"3454\",\"type\":\"Line\"},{\"attributes\":{\"line_alpha\":0.1,\"line_color\":\"#1f77b3\",\"line_width\":2,\"x\":{\"field\":\"Date Approved\"},\"y\":{\"field\":\"Loan Amount\"}},\"id\":\"3453\",\"type\":\"Line\"},{\"attributes\":{\"callback\":null,\"renderers\":[{\"id\":\"3455\"}],\"tags\":[\"hv_created\"],\"tooltips\":[[\"Date Approved\",\"@{Date_Approved}\"],[\"Loan Amount\",\"@{Loan_Amount}\"]]},\"id\":\"3412\",\"type\":\"HoverTool\"}],\"root_ids\":[\"3408\"]},\"title\":\"Bokeh Application\",\"version\":\"2.1.1\"}};\n",
       "  var render_items = [{\"docid\":\"2970fd34-d8cd-47a6-9250-6b9da459b221\",\"root_ids\":[\"3408\"],\"roots\":{\"3408\":\"5dda5f1a-3bf8-49bd-954c-db4a04b2c276\"}}];\n",
       "  root.Bokeh.embed.embed_items_notebook(docs_json, render_items);\n",
       "  }\n",
       "if (root.Bokeh !== undefined) {\n",
       "    embed_document(root);\n",
       "  } else {\n",
       "    var attempts = 0;\n",
       "    var timer = setInterval(function(root) {\n",
       "      if (root.Bokeh !== undefined) {\n",
       "        clearInterval(timer);\n",
       "        embed_document(root);\n",
       "      } else if (document.readyState == \"complete\") {\n",
       "        attempts++;\n",
       "        if (attempts > 100) {\n",
       "          clearInterval(timer);\n",
       "          console.log(\"Bokeh: ERROR: Unable to run BokehJS code because BokehJS library is missing\");\n",
       "        }\n",
       "      }\n",
       "    }, 10, root)\n",
       "  }\n",
       "})(window);</script>"
      ],
      "text/plain": [
       ":Overlay\n",
       "   .Curve.Loan_Amount_Received_in_Low_Income_Area_left_parenthesis_a_red_line_is_a_mean_value_hyphen_minus_24_comma_841_full_stop_right_parenthesis :Curve   [Date Approved]   (Loan Amount)\n",
       "   .HLine.I                                                                                                                                         :HLine   [x,y]"
      ]
     },
     "execution_count": 114,
     "metadata": {
      "application/vnd.holoviews_exec.v0+json": {
       "id": "3408"
      }
     },
     "output_type": "execute_result"
    }
   ],
   "source": [
    "# SBA Low Income Data hvPlot \n",
    "low_income_plot = SBA_PPP_Zip_Low_Income.hvplot.line(\n",
    "    x=\"Date Approved\",\n",
    "    y= \"Loan Amount\",\n",
    "    label = \"Loan Amount Received in Low Income Area (a red line is a mean value - $24,841.)\", \n",
    "    rot=90,\n",
    ").opts(yformatter= \"$ %.0f\", width=1000, height=400)\n",
    "hline = hv.HLine(24841)\n",
    "hline.opts(\n",
    "    color='red', \n",
    "    line_dash='dashed', \n",
    "    line_width=2.0,\n",
    ")\n",
    "low_income_loan_gr = low_income_plot*hline\n",
    "low_income_loan_gr"
   ]
  },
  {
   "cell_type": "code",
   "execution_count": 118,
   "metadata": {},
   "outputs": [
    {
     "data": {
      "application/vnd.holoviews_exec.v0+json": "",
      "text/html": [
       "<div id='3730'>\n",
       "\n",
       "\n",
       "\n",
       "\n",
       "\n",
       "  <div class=\"bk-root\" id=\"6f8e82d0-6a93-47f0-8b6b-03c7cd2df810\" data-root-id=\"3730\"></div>\n",
       "</div>\n",
       "<script type=\"application/javascript\">(function(root) {\n",
       "  function embed_document(root) {\n",
       "  var docs_json = {\"185bcf44-f9b0-46e4-a9c6-f2af87e46776\":{\"roots\":{\"references\":[{\"attributes\":{},\"id\":\"3752\",\"type\":\"PanTool\"},{\"attributes\":{\"align\":null,\"below\":[{\"id\":\"3744\"}],\"center\":[{\"id\":\"3746\"},{\"id\":\"3750\"},{\"id\":\"3786\"}],\"left\":[{\"id\":\"3747\"}],\"margin\":null,\"min_border_bottom\":10,\"min_border_left\":10,\"min_border_right\":10,\"min_border_top\":10,\"plot_height\":400,\"plot_width\":1000,\"renderers\":[{\"id\":\"3777\"},{\"id\":\"3790\"}],\"sizing_mode\":\"fixed\",\"title\":{\"id\":\"3736\"},\"toolbar\":{\"id\":\"3757\"},\"x_range\":{\"id\":\"3732\"},\"x_scale\":{\"id\":\"3740\"},\"y_range\":{\"id\":\"3733\"},\"y_scale\":{\"id\":\"3742\"}},\"id\":\"3735\",\"subtype\":\"Figure\",\"type\":\"Plot\"},{\"attributes\":{},\"id\":\"3772\",\"type\":\"Selection\"},{\"attributes\":{\"axis_label\":\"Loan Amount\",\"bounds\":\"auto\",\"formatter\":{\"id\":\"3764\"},\"major_label_orientation\":\"horizontal\",\"ticker\":{\"id\":\"3748\"}},\"id\":\"3747\",\"type\":\"LinearAxis\"},{\"attributes\":{\"margin\":[5,5,5,5],\"name\":\"HSpacer07899\",\"sizing_mode\":\"stretch_width\"},\"id\":\"3854\",\"type\":\"Spacer\"},{\"attributes\":{\"source\":{\"id\":\"3771\"}},\"id\":\"3778\",\"type\":\"CDSView\"},{\"attributes\":{},\"id\":\"3753\",\"type\":\"WheelZoomTool\"},{\"attributes\":{\"bottom_units\":\"screen\",\"fill_alpha\":0.5,\"fill_color\":\"lightgrey\",\"left_units\":\"screen\",\"level\":\"overlay\",\"line_alpha\":1.0,\"line_color\":\"black\",\"line_dash\":[4,4],\"line_width\":2,\"right_units\":\"screen\",\"top_units\":\"screen\"},\"id\":\"3756\",\"type\":\"BoxAnnotation\"},{\"attributes\":{\"text\":\"Loan Amount Received in Middle Income Area (a red line is a mean value - $43,050.)\",\"text_color\":{\"value\":\"black\"},\"text_font_size\":{\"value\":\"12pt\"}},\"id\":\"3736\",\"type\":\"Title\"},{\"attributes\":{\"children\":[{\"id\":\"3731\"},{\"id\":\"3735\"},{\"id\":\"3854\"}],\"margin\":[0,0,0,0],\"name\":\"Row07894\",\"tags\":[\"embedded\"]},\"id\":\"3730\",\"type\":\"Row\"},{\"attributes\":{\"level\":\"glyph\",\"line_color\":\"red\",\"line_dash\":[6],\"line_width\":2.0,\"location\":43050},\"id\":\"3790\",\"type\":\"Span\"},{\"attributes\":{\"line_alpha\":0.2,\"line_color\":\"#1f77b3\",\"line_width\":2,\"x\":{\"field\":\"Date Approved\"},\"y\":{\"field\":\"Loan Amount\"}},\"id\":\"3776\",\"type\":\"Line\"},{\"attributes\":{\"axis\":{\"id\":\"3747\"},\"dimension\":1,\"grid_line_color\":null,\"ticker\":null},\"id\":\"3750\",\"type\":\"Grid\"},{\"attributes\":{\"line_color\":\"#1f77b3\",\"line_width\":2,\"x\":{\"field\":\"Date Approved\"},\"y\":{\"field\":\"Loan Amount\"}},\"id\":\"3774\",\"type\":\"Line\"},{\"attributes\":{\"active_drag\":\"auto\",\"active_inspect\":\"auto\",\"active_multi\":null,\"active_scroll\":\"auto\",\"active_tap\":\"auto\",\"tools\":[{\"id\":\"3734\"},{\"id\":\"3751\"},{\"id\":\"3752\"},{\"id\":\"3753\"},{\"id\":\"3754\"},{\"id\":\"3755\"}]},\"id\":\"3757\",\"type\":\"Toolbar\"},{\"attributes\":{\"data_source\":{\"id\":\"3771\"},\"glyph\":{\"id\":\"3774\"},\"hover_glyph\":null,\"muted_glyph\":{\"id\":\"3776\"},\"nonselection_glyph\":{\"id\":\"3775\"},\"selection_glyph\":null,\"view\":{\"id\":\"3778\"}},\"id\":\"3777\",\"type\":\"GlyphRenderer\"},{\"attributes\":{\"line_alpha\":0.1,\"line_color\":\"#1f77b3\",\"line_width\":2,\"x\":{\"field\":\"Date Approved\"},\"y\":{\"field\":\"Loan Amount\"}},\"id\":\"3775\",\"type\":\"Line\"},{\"attributes\":{\"margin\":[5,5,5,5],\"name\":\"HSpacer07898\",\"sizing_mode\":\"stretch_width\"},\"id\":\"3731\",\"type\":\"Spacer\"},{\"attributes\":{\"factors\":[\"04/07/2020\",\"04/09/2020\",\"04/10/2020\",\"04/11/2020\",\"04/12/2020\",\"04/13/2020\",\"04/14/2020\",\"04/15/2020\",\"04/16/2020\",\"04/27/2020\",\"04/28/2020\",\"04/29/2020\",\"04/30/2020\",\"05/01/2020\",\"05/02/2020\",\"05/03/2020\",\"05/04/2020\",\"05/05/2020\",\"05/06/2020\",\"05/07/2020\",\"05/08/2020\",\"05/09/2020\",\"05/11/2020\",\"05/12/2020\",\"05/13/2020\",\"05/14/2020\",\"05/15/2020\",\"05/16/2020\",\"05/17/2020\",\"05/18/2020\",\"05/19/2020\",\"05/20/2020\",\"05/21/2020\",\"05/22/2020\",\"05/23/2020\",\"05/25/2020\",\"05/26/2020\",\"05/27/2020\",\"05/28/2020\",\"05/29/2020\",\"05/31/2020\",\"06/03/2020\",\"06/05/2020\",\"06/08/2020\",\"06/10/2020\",\"06/12/2020\",\"06/13/2020\",\"06/14/2020\",\"06/15/2020\",\"06/16/2020\",\"06/17/2020\",\"06/18/2020\",\"06/22/2020\",\"06/23/2020\",\"06/24/2020\",\"06/25/2020\",\"06/26/2020\",\"06/28/2020\",\"06/29/2020\",\"06/30/2020\"],\"tags\":[[[\"Date Approved\",\"Date Approved\",null]]]},\"id\":\"3732\",\"type\":\"FactorRange\"},{\"attributes\":{\"data\":{\"Date Approved\":[\"04/07/2020\",\"04/09/2020\",\"04/09/2020\",\"04/10/2020\",\"04/10/2020\",\"04/10/2020\",\"04/11/2020\",\"04/12/2020\",\"04/12/2020\",\"04/12/2020\",\"04/12/2020\",\"04/12/2020\",\"04/12/2020\",\"04/13/2020\",\"04/13/2020\",\"04/13/2020\",\"04/13/2020\",\"04/13/2020\",\"04/14/2020\",\"04/14/2020\",\"04/14/2020\",\"04/14/2020\",\"04/14/2020\",\"04/14/2020\",\"04/14/2020\",\"04/14/2020\",\"04/14/2020\",\"04/14/2020\",\"04/14/2020\",\"04/14/2020\",\"04/14/2020\",\"04/14/2020\",\"04/15/2020\",\"04/15/2020\",\"04/15/2020\",\"04/15/2020\",\"04/15/2020\",\"04/15/2020\",\"04/15/2020\",\"04/15/2020\",\"04/15/2020\",\"04/15/2020\",\"04/15/2020\",\"04/15/2020\",\"04/15/2020\",\"04/15/2020\",\"04/15/2020\",\"04/15/2020\",\"04/15/2020\",\"04/16/2020\",\"04/16/2020\",\"04/16/2020\",\"04/16/2020\",\"04/16/2020\",\"04/16/2020\",\"04/27/2020\",\"04/27/2020\",\"04/27/2020\",\"04/27/2020\",\"04/27/2020\",\"04/27/2020\",\"04/27/2020\",\"04/27/2020\",\"04/27/2020\",\"04/27/2020\",\"04/27/2020\",\"04/27/2020\",\"04/27/2020\",\"04/27/2020\",\"04/27/2020\",\"04/27/2020\",\"04/27/2020\",\"04/27/2020\",\"04/27/2020\",\"04/27/2020\",\"04/27/2020\",\"04/27/2020\",\"04/27/2020\",\"04/27/2020\",\"04/27/2020\",\"04/28/2020\",\"04/28/2020\",\"04/28/2020\",\"04/28/2020\",\"04/28/2020\",\"04/28/2020\",\"04/28/2020\",\"04/28/2020\",\"04/28/2020\",\"04/28/2020\",\"04/28/2020\",\"04/28/2020\",\"04/28/2020\",\"04/28/2020\",\"04/28/2020\",\"04/28/2020\",\"04/28/2020\",\"04/28/2020\",\"04/28/2020\",\"04/28/2020\",\"04/28/2020\",\"04/28/2020\",\"04/28/2020\",\"04/28/2020\",\"04/28/2020\",\"04/28/2020\",\"04/28/2020\",\"04/28/2020\",\"04/28/2020\",\"04/28/2020\",\"04/29/2020\",\"04/29/2020\",\"04/29/2020\",\"04/29/2020\",\"04/29/2020\",\"04/29/2020\",\"04/29/2020\",\"04/29/2020\",\"04/29/2020\",\"04/29/2020\",\"04/29/2020\",\"04/29/2020\",\"04/29/2020\",\"04/29/2020\",\"04/29/2020\",\"04/29/2020\",\"04/29/2020\",\"04/29/2020\",\"04/29/2020\",\"04/29/2020\",\"04/29/2020\",\"04/29/2020\",\"04/29/2020\",\"04/29/2020\",\"04/29/2020\",\"04/29/2020\",\"04/29/2020\",\"04/29/2020\",\"04/29/2020\",\"04/29/2020\",\"04/29/2020\",\"04/29/2020\",\"04/29/2020\",\"04/29/2020\",\"04/29/2020\",\"04/30/2020\",\"04/30/2020\",\"04/30/2020\",\"04/30/2020\",\"04/30/2020\",\"04/30/2020\",\"04/30/2020\",\"04/30/2020\",\"04/30/2020\",\"04/30/2020\",\"04/30/2020\",\"04/30/2020\",\"04/30/2020\",\"04/30/2020\",\"04/30/2020\",\"04/30/2020\",\"04/30/2020\",\"04/30/2020\",\"04/30/2020\",\"04/30/2020\",\"04/30/2020\",\"04/30/2020\",\"04/30/2020\",\"04/30/2020\",\"04/30/2020\",\"04/30/2020\",\"04/30/2020\",\"04/30/2020\",\"04/30/2020\",\"04/30/2020\",\"04/30/2020\",\"04/30/2020\",\"04/30/2020\",\"04/30/2020\",\"05/01/2020\",\"05/01/2020\",\"05/01/2020\",\"05/01/2020\",\"05/01/2020\",\"05/01/2020\",\"05/01/2020\",\"05/01/2020\",\"05/01/2020\",\"05/01/2020\",\"05/01/2020\",\"05/01/2020\",\"05/01/2020\",\"05/01/2020\",\"05/01/2020\",\"05/01/2020\",\"05/01/2020\",\"05/01/2020\",\"05/01/2020\",\"05/01/2020\",\"05/01/2020\",\"05/01/2020\",\"05/01/2020\",\"05/01/2020\",\"05/01/2020\",\"05/01/2020\",\"05/01/2020\",\"05/01/2020\",\"05/01/2020\",\"05/01/2020\",\"05/01/2020\",\"05/01/2020\",\"05/01/2020\",\"05/01/2020\",\"05/01/2020\",\"05/01/2020\",\"05/01/2020\",\"05/01/2020\",\"05/01/2020\",\"05/01/2020\",\"05/01/2020\",\"05/01/2020\",\"05/01/2020\",\"05/01/2020\",\"05/01/2020\",\"05/01/2020\",\"05/01/2020\",\"05/01/2020\",\"05/01/2020\",\"05/01/2020\",\"05/01/2020\",\"05/01/2020\",\"05/01/2020\",\"05/01/2020\",\"05/01/2020\",\"05/01/2020\",\"05/01/2020\",\"05/01/2020\",\"05/01/2020\",\"05/01/2020\",\"05/01/2020\",\"05/01/2020\",\"05/01/2020\",\"05/01/2020\",\"05/01/2020\",\"05/01/2020\",\"05/01/2020\",\"05/01/2020\",\"05/01/2020\",\"05/01/2020\",\"05/01/2020\",\"05/01/2020\",\"05/01/2020\",\"05/01/2020\",\"05/01/2020\",\"05/01/2020\",\"05/02/2020\",\"05/02/2020\",\"05/02/2020\",\"05/02/2020\",\"05/02/2020\",\"05/02/2020\",\"05/03/2020\",\"05/03/2020\",\"05/03/2020\",\"05/03/2020\",\"05/03/2020\",\"05/03/2020\",\"05/03/2020\",\"05/03/2020\",\"05/03/2020\",\"05/03/2020\",\"05/03/2020\",\"05/03/2020\",\"05/03/2020\",\"05/03/2020\",\"05/03/2020\",\"05/03/2020\",\"05/03/2020\",\"05/03/2020\",\"05/03/2020\",\"05/03/2020\",\"05/03/2020\",\"05/03/2020\",\"05/03/2020\",\"05/03/2020\",\"05/03/2020\",\"05/03/2020\",\"05/03/2020\",\"05/04/2020\",\"05/04/2020\",\"05/04/2020\",\"05/04/2020\",\"05/04/2020\",\"05/04/2020\",\"05/04/2020\",\"05/04/2020\",\"05/04/2020\",\"05/04/2020\",\"05/05/2020\",\"05/05/2020\",\"05/05/2020\",\"05/05/2020\",\"05/05/2020\",\"05/05/2020\",\"05/05/2020\",\"05/05/2020\",\"05/05/2020\",\"05/06/2020\",\"05/06/2020\",\"05/06/2020\",\"05/06/2020\",\"05/06/2020\",\"05/06/2020\",\"05/06/2020\",\"05/06/2020\",\"05/07/2020\",\"05/07/2020\",\"05/07/2020\",\"05/07/2020\",\"05/07/2020\",\"05/07/2020\",\"05/07/2020\",\"05/08/2020\",\"05/08/2020\",\"05/09/2020\",\"05/09/2020\",\"05/09/2020\",\"05/11/2020\",\"05/11/2020\",\"05/11/2020\",\"05/11/2020\",\"05/12/2020\",\"05/12/2020\",\"05/12/2020\",\"05/12/2020\",\"05/12/2020\",\"05/13/2020\",\"05/13/2020\",\"05/13/2020\",\"05/14/2020\",\"05/15/2020\",\"05/15/2020\",\"05/16/2020\",\"05/16/2020\",\"05/17/2020\",\"05/17/2020\",\"05/18/2020\",\"05/18/2020\",\"05/18/2020\",\"05/19/2020\",\"05/19/2020\",\"05/20/2020\",\"05/20/2020\",\"05/21/2020\",\"05/21/2020\",\"05/21/2020\",\"05/21/2020\",\"05/21/2020\",\"05/21/2020\",\"05/21/2020\",\"05/22/2020\",\"05/22/2020\",\"05/22/2020\",\"05/22/2020\",\"05/23/2020\",\"05/23/2020\",\"05/23/2020\",\"05/25/2020\",\"05/25/2020\",\"05/26/2020\",\"05/26/2020\",\"05/26/2020\",\"05/26/2020\",\"05/26/2020\",\"05/26/2020\",\"05/27/2020\",\"05/27/2020\",\"05/27/2020\",\"05/27/2020\",\"05/27/2020\",\"05/27/2020\",\"05/27/2020\",\"05/28/2020\",\"05/28/2020\",\"05/28/2020\",\"05/29/2020\",\"05/31/2020\",\"06/03/2020\",\"06/03/2020\",\"06/03/2020\",\"06/05/2020\",\"06/05/2020\",\"06/05/2020\",\"06/05/2020\",\"06/08/2020\",\"06/10/2020\",\"06/12/2020\",\"06/13/2020\",\"06/13/2020\",\"06/13/2020\",\"06/13/2020\",\"06/13/2020\",\"06/13/2020\",\"06/13/2020\",\"06/14/2020\",\"06/15/2020\",\"06/16/2020\",\"06/16/2020\",\"06/16/2020\",\"06/16/2020\",\"06/17/2020\",\"06/17/2020\",\"06/17/2020\",\"06/17/2020\",\"06/18/2020\",\"06/18/2020\",\"06/18/2020\",\"06/22/2020\",\"06/23/2020\",\"06/23/2020\",\"06/23/2020\",\"06/23/2020\",\"06/23/2020\",\"06/23/2020\",\"06/24/2020\",\"06/24/2020\",\"06/25/2020\",\"06/25/2020\",\"06/25/2020\",\"06/25/2020\",\"06/26/2020\",\"06/26/2020\",\"06/26/2020\",\"06/26/2020\",\"06/26/2020\",\"06/28/2020\",\"06/28/2020\",\"06/28/2020\",\"06/29/2020\",\"06/29/2020\",\"06/29/2020\",\"06/30/2020\",\"06/30/2020\",\"06/30/2020\",\"06/30/2020\",\"06/30/2020\",\"06/30/2020\",\"06/30/2020\"],\"Date_Approved\":[\"04/07/2020\",\"04/09/2020\",\"04/09/2020\",\"04/10/2020\",\"04/10/2020\",\"04/10/2020\",\"04/11/2020\",\"04/12/2020\",\"04/12/2020\",\"04/12/2020\",\"04/12/2020\",\"04/12/2020\",\"04/12/2020\",\"04/13/2020\",\"04/13/2020\",\"04/13/2020\",\"04/13/2020\",\"04/13/2020\",\"04/14/2020\",\"04/14/2020\",\"04/14/2020\",\"04/14/2020\",\"04/14/2020\",\"04/14/2020\",\"04/14/2020\",\"04/14/2020\",\"04/14/2020\",\"04/14/2020\",\"04/14/2020\",\"04/14/2020\",\"04/14/2020\",\"04/14/2020\",\"04/15/2020\",\"04/15/2020\",\"04/15/2020\",\"04/15/2020\",\"04/15/2020\",\"04/15/2020\",\"04/15/2020\",\"04/15/2020\",\"04/15/2020\",\"04/15/2020\",\"04/15/2020\",\"04/15/2020\",\"04/15/2020\",\"04/15/2020\",\"04/15/2020\",\"04/15/2020\",\"04/15/2020\",\"04/16/2020\",\"04/16/2020\",\"04/16/2020\",\"04/16/2020\",\"04/16/2020\",\"04/16/2020\",\"04/27/2020\",\"04/27/2020\",\"04/27/2020\",\"04/27/2020\",\"04/27/2020\",\"04/27/2020\",\"04/27/2020\",\"04/27/2020\",\"04/27/2020\",\"04/27/2020\",\"04/27/2020\",\"04/27/2020\",\"04/27/2020\",\"04/27/2020\",\"04/27/2020\",\"04/27/2020\",\"04/27/2020\",\"04/27/2020\",\"04/27/2020\",\"04/27/2020\",\"04/27/2020\",\"04/27/2020\",\"04/27/2020\",\"04/27/2020\",\"04/27/2020\",\"04/28/2020\",\"04/28/2020\",\"04/28/2020\",\"04/28/2020\",\"04/28/2020\",\"04/28/2020\",\"04/28/2020\",\"04/28/2020\",\"04/28/2020\",\"04/28/2020\",\"04/28/2020\",\"04/28/2020\",\"04/28/2020\",\"04/28/2020\",\"04/28/2020\",\"04/28/2020\",\"04/28/2020\",\"04/28/2020\",\"04/28/2020\",\"04/28/2020\",\"04/28/2020\",\"04/28/2020\",\"04/28/2020\",\"04/28/2020\",\"04/28/2020\",\"04/28/2020\",\"04/28/2020\",\"04/28/2020\",\"04/28/2020\",\"04/28/2020\",\"04/29/2020\",\"04/29/2020\",\"04/29/2020\",\"04/29/2020\",\"04/29/2020\",\"04/29/2020\",\"04/29/2020\",\"04/29/2020\",\"04/29/2020\",\"04/29/2020\",\"04/29/2020\",\"04/29/2020\",\"04/29/2020\",\"04/29/2020\",\"04/29/2020\",\"04/29/2020\",\"04/29/2020\",\"04/29/2020\",\"04/29/2020\",\"04/29/2020\",\"04/29/2020\",\"04/29/2020\",\"04/29/2020\",\"04/29/2020\",\"04/29/2020\",\"04/29/2020\",\"04/29/2020\",\"04/29/2020\",\"04/29/2020\",\"04/29/2020\",\"04/29/2020\",\"04/29/2020\",\"04/29/2020\",\"04/29/2020\",\"04/29/2020\",\"04/30/2020\",\"04/30/2020\",\"04/30/2020\",\"04/30/2020\",\"04/30/2020\",\"04/30/2020\",\"04/30/2020\",\"04/30/2020\",\"04/30/2020\",\"04/30/2020\",\"04/30/2020\",\"04/30/2020\",\"04/30/2020\",\"04/30/2020\",\"04/30/2020\",\"04/30/2020\",\"04/30/2020\",\"04/30/2020\",\"04/30/2020\",\"04/30/2020\",\"04/30/2020\",\"04/30/2020\",\"04/30/2020\",\"04/30/2020\",\"04/30/2020\",\"04/30/2020\",\"04/30/2020\",\"04/30/2020\",\"04/30/2020\",\"04/30/2020\",\"04/30/2020\",\"04/30/2020\",\"04/30/2020\",\"04/30/2020\",\"05/01/2020\",\"05/01/2020\",\"05/01/2020\",\"05/01/2020\",\"05/01/2020\",\"05/01/2020\",\"05/01/2020\",\"05/01/2020\",\"05/01/2020\",\"05/01/2020\",\"05/01/2020\",\"05/01/2020\",\"05/01/2020\",\"05/01/2020\",\"05/01/2020\",\"05/01/2020\",\"05/01/2020\",\"05/01/2020\",\"05/01/2020\",\"05/01/2020\",\"05/01/2020\",\"05/01/2020\",\"05/01/2020\",\"05/01/2020\",\"05/01/2020\",\"05/01/2020\",\"05/01/2020\",\"05/01/2020\",\"05/01/2020\",\"05/01/2020\",\"05/01/2020\",\"05/01/2020\",\"05/01/2020\",\"05/01/2020\",\"05/01/2020\",\"05/01/2020\",\"05/01/2020\",\"05/01/2020\",\"05/01/2020\",\"05/01/2020\",\"05/01/2020\",\"05/01/2020\",\"05/01/2020\",\"05/01/2020\",\"05/01/2020\",\"05/01/2020\",\"05/01/2020\",\"05/01/2020\",\"05/01/2020\",\"05/01/2020\",\"05/01/2020\",\"05/01/2020\",\"05/01/2020\",\"05/01/2020\",\"05/01/2020\",\"05/01/2020\",\"05/01/2020\",\"05/01/2020\",\"05/01/2020\",\"05/01/2020\",\"05/01/2020\",\"05/01/2020\",\"05/01/2020\",\"05/01/2020\",\"05/01/2020\",\"05/01/2020\",\"05/01/2020\",\"05/01/2020\",\"05/01/2020\",\"05/01/2020\",\"05/01/2020\",\"05/01/2020\",\"05/01/2020\",\"05/01/2020\",\"05/01/2020\",\"05/01/2020\",\"05/02/2020\",\"05/02/2020\",\"05/02/2020\",\"05/02/2020\",\"05/02/2020\",\"05/02/2020\",\"05/03/2020\",\"05/03/2020\",\"05/03/2020\",\"05/03/2020\",\"05/03/2020\",\"05/03/2020\",\"05/03/2020\",\"05/03/2020\",\"05/03/2020\",\"05/03/2020\",\"05/03/2020\",\"05/03/2020\",\"05/03/2020\",\"05/03/2020\",\"05/03/2020\",\"05/03/2020\",\"05/03/2020\",\"05/03/2020\",\"05/03/2020\",\"05/03/2020\",\"05/03/2020\",\"05/03/2020\",\"05/03/2020\",\"05/03/2020\",\"05/03/2020\",\"05/03/2020\",\"05/03/2020\",\"05/04/2020\",\"05/04/2020\",\"05/04/2020\",\"05/04/2020\",\"05/04/2020\",\"05/04/2020\",\"05/04/2020\",\"05/04/2020\",\"05/04/2020\",\"05/04/2020\",\"05/05/2020\",\"05/05/2020\",\"05/05/2020\",\"05/05/2020\",\"05/05/2020\",\"05/05/2020\",\"05/05/2020\",\"05/05/2020\",\"05/05/2020\",\"05/06/2020\",\"05/06/2020\",\"05/06/2020\",\"05/06/2020\",\"05/06/2020\",\"05/06/2020\",\"05/06/2020\",\"05/06/2020\",\"05/07/2020\",\"05/07/2020\",\"05/07/2020\",\"05/07/2020\",\"05/07/2020\",\"05/07/2020\",\"05/07/2020\",\"05/08/2020\",\"05/08/2020\",\"05/09/2020\",\"05/09/2020\",\"05/09/2020\",\"05/11/2020\",\"05/11/2020\",\"05/11/2020\",\"05/11/2020\",\"05/12/2020\",\"05/12/2020\",\"05/12/2020\",\"05/12/2020\",\"05/12/2020\",\"05/13/2020\",\"05/13/2020\",\"05/13/2020\",\"05/14/2020\",\"05/15/2020\",\"05/15/2020\",\"05/16/2020\",\"05/16/2020\",\"05/17/2020\",\"05/17/2020\",\"05/18/2020\",\"05/18/2020\",\"05/18/2020\",\"05/19/2020\",\"05/19/2020\",\"05/20/2020\",\"05/20/2020\",\"05/21/2020\",\"05/21/2020\",\"05/21/2020\",\"05/21/2020\",\"05/21/2020\",\"05/21/2020\",\"05/21/2020\",\"05/22/2020\",\"05/22/2020\",\"05/22/2020\",\"05/22/2020\",\"05/23/2020\",\"05/23/2020\",\"05/23/2020\",\"05/25/2020\",\"05/25/2020\",\"05/26/2020\",\"05/26/2020\",\"05/26/2020\",\"05/26/2020\",\"05/26/2020\",\"05/26/2020\",\"05/27/2020\",\"05/27/2020\",\"05/27/2020\",\"05/27/2020\",\"05/27/2020\",\"05/27/2020\",\"05/27/2020\",\"05/28/2020\",\"05/28/2020\",\"05/28/2020\",\"05/29/2020\",\"05/31/2020\",\"06/03/2020\",\"06/03/2020\",\"06/03/2020\",\"06/05/2020\",\"06/05/2020\",\"06/05/2020\",\"06/05/2020\",\"06/08/2020\",\"06/10/2020\",\"06/12/2020\",\"06/13/2020\",\"06/13/2020\",\"06/13/2020\",\"06/13/2020\",\"06/13/2020\",\"06/13/2020\",\"06/13/2020\",\"06/14/2020\",\"06/15/2020\",\"06/16/2020\",\"06/16/2020\",\"06/16/2020\",\"06/16/2020\",\"06/17/2020\",\"06/17/2020\",\"06/17/2020\",\"06/17/2020\",\"06/18/2020\",\"06/18/2020\",\"06/18/2020\",\"06/22/2020\",\"06/23/2020\",\"06/23/2020\",\"06/23/2020\",\"06/23/2020\",\"06/23/2020\",\"06/23/2020\",\"06/24/2020\",\"06/24/2020\",\"06/25/2020\",\"06/25/2020\",\"06/25/2020\",\"06/25/2020\",\"06/26/2020\",\"06/26/2020\",\"06/26/2020\",\"06/26/2020\",\"06/26/2020\",\"06/28/2020\",\"06/28/2020\",\"06/28/2020\",\"06/29/2020\",\"06/29/2020\",\"06/29/2020\",\"06/30/2020\",\"06/30/2020\",\"06/30/2020\",\"06/30/2020\",\"06/30/2020\",\"06/30/2020\",\"06/30/2020\"],\"Loan Amount\":{\"__ndarray__\":\"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\",\"dtype\":\"float64\",\"order\":\"little\",\"shape\":[448]},\"Loan_Amount\":{\"__ndarray__\":\"AAAAAACB8EAAAAAAYMDvQAAAAAAAduZAAAAAAJBi8kAAAAAAQJDqQGZmZmY6ffZAAAAAAMB6AEEAAAAAYIj1QAAAAAAAC/NAAAAAAAD55UAAAAAAACbmQAAAAAAA28VAAAAAAMDQ9kAAAAAAaFcBQQAAAACAhM5AAAAAAMDr8kAAAAAAoBz/QAAAAACgIvBAAAAAAKB/90AAAAAAIEYCQQAAAACAGOdAAAAAAICE3kAAAAAAwM3cQAAAAACg/NdAAAAAAMAP10DD9Shcr/3EQAAAAADgdPhA16NwPVJ++kAAAAAAAOLdQAAAAABgvv9AAAAAAICE/kAAAAAAMAf+QAAAAACgAutAAAAAAMCk2EAAAAAAcGL+QAAAAACAQ9JAAAAAAGAX6UAAAAAAAGTJQAAAAAAAGMVAAAAAAABqyEAAAAAAANv6QAAAAABg8PpAAAAAAIBR6kAAAAAAEDn2QAAAAAAAudJAAAAAAGDd4kAAAAAAgCPxQAAAAAAAiLNAAAAAAADH5EAAAAAAQC3/QAAAAAAgQ+xAAAAAAKCc8kAAAAAAIK/rQAAAAAAQEPxAAAAAAHAt/EAAAAAAwJnZQOF6FK6vS+ZAAAAAAAAF5EAAAAAAgHznQAAAAABAlNdAAAAAAMB6AEEAAAAAAIHQQAAAAACArMpAAAAAAKB/50AAAAAAYFLxQAAAAABAB/1AAAAAAEBF+0B7FK5HcSjTQAAAAAAAiKNAAAAAAAAu00AAAAAAgDnoQAAAAAAgZeFA16NwPbJE7EAAAAAAgPvvQAAAAAAAavhArkfhemTL00AAAAAAkAPiQAAAAABAswFBAAAAADAy8UAAAAAAQHHsQAAAAABA+NBAAAAAAMC000AAAAAAAJTRQAAAAAAA6dZAAAAAAABG7kAAAAAAAKjmQAAAAADAvtJAAAAAACxFAUEAAAAAAPjRQAAAAACAaOtAAAAAAOD+4UAfhetR5AX7QAAAAACADf1AAAAAAHDu+UAAAAAAoLL5QAAAAAAABcRAAAAAAMil+UAAAAAAICL9QAAAAAAAALlAAAAAAIC8/UAAAAAAAGXdQAAAAACAaLRAAAAAAIAjwUAAAAAAAMi5QAAAAAAg+PJAAAAAAOA540AAAAAAgNzIQAAAAACgowFBAAAAAAAA2UAAAAAAAF/+QAAAAAAAGt1AAAAAAABWw0AAAAAAAJ3fQNejcD1yJuVAAAAAAMDp0kAAAAAAgKLpQAAAAAAAaLpAAAAAAOA15kAAAAAAoJ3iQAAAAADgJ+FAAAAAAAB92UCuR+F6pKzTQAAAAACA3+NAAAAAAGDh/0AAAAAAACDcQAAAAABMDAFBAAAAACBW5UAAAAAAAE/gQAAAAAAAJetAAAAAAACkz0AAAAAAMLDwQAAAAAAAT/BAAAAAAIAGykAAAAAAkCPwQAAAAADAFP5AAAAAAJC19UAAAAAAAGLFQAAAAACgwexAAAAAAMDA9UAAAAAA4O8BQQAAAADYg/xAAAAAAACIw0AAAAAAALzrQAAAAABgiPlAAAAAAIBP0kAAAAAAcIvzQAAAAADAduRAAAAAAACk30ApXI/CDWTkQAAAAABA991AAAAAAIBOyUAAAAAAAC3AQAAAAABA0eFAAAAAAABQ40AAAAAAgDLHQAAAAAAwtgBBAAAAAMAE80AAAAAAgBjHQAAAAAAAUuJAAAAAAIDixUAAAAAAAN/2QAAAAAAAJfdAAAAAAABF2kAAAAAAANvqQAAAAAAA97RAAAAAAAAi1UAAAAAAAPnVQAAAAACAMedAAAAAAICJ0kAAAAAAAFPRQAAAAAAghelAAAAAAED41UAAAAAAAIrnQGZmZmYmN9dAAAAAAEB750CkcD0K99vpQAAAAACARuVAAAAAAICC60AAAAAAAOa6QAAAAAAAeL5AAAAAAMCm0UAAAAAAgM7FQAAAAAAAQM9AAAAAAACCxEAAAAAAAEy9QAAAAAAAarhAAAAAAOAZ4EAAAAAAAKvSQAAAAAAAnr1AAAAAAIBP0kAAAAAAwBHcQAAAAABAWNVAAAAAAABAv0AAAAAAgH/XQAAAAAAATM1AAAAAAACRz0AAAAAAAEzNQAAAAAAAathAAAAAAABAv0AAAAAAgPLQQAAAAAAA79hAAAAAAICe1kAAAAAAAKHJQAAAAAAA4NVAAAAAAIAP20AAAAAAAFjbQAAAAAAA0NtAAAAAAECF1UAAAAAAAO3HQAAAAABApNFAAAAAAMCv/EAAAAAAgMTgQAAAAABAk+lAAAAAAHDU8EAAAAAA4MzmQAAAAADQlPVAAAAAAGAo40AAAAAA8I31QAAAAABAPuNAAAAAACCw8UAAAAAAsETyQAAAAABgXvZAAAAAAACI40AAAAAAgE/yQAAAAADgxeNAAAAAAOD05UAAAAAAIAvlQAAAAAAA2rZAAAAAACD99EAAAAAAANqqQAAAAADwpfRAAAAAACBb5kAAAAAAILPzQAAAAABQ3P1AAAAAAPC98EAAAAAAwLbgQAAAAADg+eBAAAAAACAT6EAAAAAAoIf7QAAAAADwp/lAAAAAAICi6UAAAAAAoB3qQAAAAACgB+tAAAAAAFAb90AAAAAAgCPrQAAAAABgDOxAAAAAACAT8EAAAAAAwG7hQAAAAADAQPBAAAAAAABq+EAAAAAAgIT+QAAAAABgKedAAAAAAFCQ8EAAAAAAgE/iQAAAAADgbeBAAAAAAEBH6UAAAAAAAEHOQAAAAABAKtNAAAAAAABS3EAAAAAAgH3DQAAAAAAACNtAAAAAAEAk9EAAAAAAECj0QAAAAACAJcVAAAAAAABM3UAAAAAAwCTRQAAAAABAwN1AAAAAAGAi8EAAAAAAICzsQAAAAAAApMFAAAAAAACIs0AAAAAAmKMAQQAAAACA895AAAAAAAAu00AAAAAAQDH2QAAAAADA6P9AAAAAAACb5EAAAAAAACvWQAAAAACAEshAAAAAAACK20AAAAAAAJm1QAAAAAAAPMBAAAAAAABczUCamZmZSWjlQAAAAAAA9MpAAAAAAABqyEAAAAAAAMXMQAAAAAAAWMtAAAAAAADdyEAAAAAAwHrfQAAAAAAAibVAAAAAAID74EAAAAAAgNXQQAAAAACA0tFAAAAAAIBWyEAAAAAAAGr4QAAAAACAidtAuB6F68ki90AAAAAAAJTxQAAAAABABsRAAAAAAIBzwUAAAAAAQE7gQAAAAAAAarhAAAAAAEAM50AAAAAAANC5QAAAAACgFtxAAAAAAGDj5kAAAAAAAFK8QAAAAACAbNdAAAAAACB54UAAAAAAgPnnQAAAAAAAF8FAAAAAAMCP40AAAAAAYGbmQAAAAADA1NFAAAAAAABOu0AAAAAAAMfKQAAAAADgdu5AAAAAACCV2EAAAAAAANfdQAAAAAAAvLtAexSuR6GcvkAAAAAAANu6QAAAAABw8/ZAAAAAAEBY1EAAAAAAAPfHQAAAAADAHNlAAAAAAAAdwEAAAAAAALatQAAAAAAAUrxAzczMzLTl5EDsUbgehdi1QAAAAABASdxAcT0K1+PrwkAAAAAAgO3OQAAAAACALu5AAAAAAMAL4UAAAAAAgMDkQAAAAAAASM1AAAAAAKB3AEEAAAAAAPPRQAAAAAAAlLFAAAAAAAD2o0AAAAAAgGHjQAAAAACAvMhAAAAAAEAF9UAAAAAAQB/SQAAAAAAAOMhAzczMzJzx5EAAAAAAACzaQAAAAADAktZAAAAAAACCxEAAAAAAwHDfQAAAAACAHdRAAAAAAAALu0AAAAAAQFjUQAAAAADAefFAAAAAACBY5EAAAAAAACe6QAAAAAAAkthAAAAAAEAB3UAAAAAAgCPxQM3MzMxM9dxAAAAAAEDi1EAAAAAAAF63QAAAAACA3c1AAAAAAODB/kAAAAAAAEDfQClcj8LVGdRAAAAAAACE1kAAAAAAABK3QAAAAADAzdZAAAAAAEDT2UAAAAAAgHLdQAAAAADAk9VAAAAAAEAG+UC4HoXrUVq8QAAAAAAATM1AAAAAAGDo4kAAAAAAgMLsQAAAAABA2+ZAAAAAAICyyEAfhetR/NXyQAAAAAAAoudAAAAAAAC3wEAAAAAAAEPHQAAAAACABOJAAAAAAABMvUApXI/C9TfcQAAAAABAS+tAAAAAAAAtu0AAAAAAAI/WQAAAAACAm8ZAAAAAAMBt3kAAAAAAINrkQAAAAAAAUNRAAAAAAABkuUAAAAAAAPCTQAAAAACATtdAAAAAAIBOzkAAAAAAAHy/QAAAAACAIsdAAAAAAAByxUAAAAAAYGXsQAAAAAAAQ9JAAAAAAAB7u0BSuB6FqyK2QAAAAAAgN+RAAAAAAEBK0UAAAAAAgFXxQAAAAAAATN1AAAAAAKDp4EAAAAAAQOvVQAAAAAAAjtJAAAAAAABQ1EAAAAAAoOXPQAAAAABA99FAAAAAACBY5EAAAAAAQAbUQAAAAACA9NNAKVyPwtU8xECkcD0KNx7DQAAAAAAgy+NAAAAAAACgokAAAAAAADf0QAAAAAAAruVAAAAAAMAf40AAAAAAgP7SQAAAAACA/txAAAAAAACD2EAAAAAA4DnzQAAAAACA58RAAAAAAIB6wEAAAAAAAL65QAAAAAAA+MFAAAAAAIBKyEAAAAAAAFK8QAAAAABAWNRAAAAAACBC60AAAAAAAATAQAAAAACAxtNAAAAAAABpyUAAAAAAINrkQAAAAADAyt1AAAAAAACwrUAAAAAAALu9QAAAAADw5vlAAAAAAAA3yUA=\",\"dtype\":\"float64\",\"order\":\"little\",\"shape\":[448]}},\"selected\":{\"id\":\"3772\"},\"selection_policy\":{\"id\":\"3784\"}},\"id\":\"3771\",\"type\":\"ColumnDataSource\"},{\"attributes\":{\"callback\":null,\"renderers\":[{\"id\":\"3777\"}],\"tags\":[\"hv_created\"],\"tooltips\":[[\"Date Approved\",\"@{Date_Approved}\"],[\"Loan Amount\",\"@{Loan_Amount}\"]]},\"id\":\"3734\",\"type\":\"HoverTool\"},{\"attributes\":{},\"id\":\"3740\",\"type\":\"CategoricalScale\"},{\"attributes\":{},\"id\":\"3751\",\"type\":\"SaveTool\"},{\"attributes\":{},\"id\":\"3784\",\"type\":\"UnionRenderers\"},{\"attributes\":{\"overlay\":{\"id\":\"3756\"}},\"id\":\"3754\",\"type\":\"BoxZoomTool\"},{\"attributes\":{},\"id\":\"3745\",\"type\":\"CategoricalTicker\"},{\"attributes\":{\"axis_label\":\"Date Approved\",\"bounds\":\"auto\",\"formatter\":{\"id\":\"3766\"},\"major_label_orientation\":1.5707963267948966,\"ticker\":{\"id\":\"3745\"}},\"id\":\"3744\",\"type\":\"CategoricalAxis\"},{\"attributes\":{\"end\":164542.4,\"reset_end\":164542.4,\"reset_start\":-13566.400000000001,\"start\":-13566.400000000001,\"tags\":[[[\"Loan Amount\",\"Loan Amount\",null]]]},\"id\":\"3733\",\"type\":\"Range1d\"},{\"attributes\":{},\"id\":\"3748\",\"type\":\"BasicTicker\"},{\"attributes\":{\"items\":[]},\"id\":\"3786\",\"type\":\"Legend\"},{\"attributes\":{},\"id\":\"3766\",\"type\":\"CategoricalTickFormatter\"},{\"attributes\":{\"format\":\"$ %.0f\"},\"id\":\"3764\",\"type\":\"PrintfTickFormatter\"},{\"attributes\":{},\"id\":\"3755\",\"type\":\"ResetTool\"},{\"attributes\":{},\"id\":\"3742\",\"type\":\"LinearScale\"},{\"attributes\":{\"axis\":{\"id\":\"3744\"},\"grid_line_color\":null,\"ticker\":null},\"id\":\"3746\",\"type\":\"Grid\"}],\"root_ids\":[\"3730\"]},\"title\":\"Bokeh Application\",\"version\":\"2.1.1\"}};\n",
       "  var render_items = [{\"docid\":\"185bcf44-f9b0-46e4-a9c6-f2af87e46776\",\"root_ids\":[\"3730\"],\"roots\":{\"3730\":\"6f8e82d0-6a93-47f0-8b6b-03c7cd2df810\"}}];\n",
       "  root.Bokeh.embed.embed_items_notebook(docs_json, render_items);\n",
       "  }\n",
       "if (root.Bokeh !== undefined) {\n",
       "    embed_document(root);\n",
       "  } else {\n",
       "    var attempts = 0;\n",
       "    var timer = setInterval(function(root) {\n",
       "      if (root.Bokeh !== undefined) {\n",
       "        clearInterval(timer);\n",
       "        embed_document(root);\n",
       "      } else if (document.readyState == \"complete\") {\n",
       "        attempts++;\n",
       "        if (attempts > 100) {\n",
       "          clearInterval(timer);\n",
       "          console.log(\"Bokeh: ERROR: Unable to run BokehJS code because BokehJS library is missing\");\n",
       "        }\n",
       "      }\n",
       "    }, 10, root)\n",
       "  }\n",
       "})(window);</script>"
      ],
      "text/plain": [
       ":Overlay\n",
       "   .Curve.Loan_Amount_Received_in_Middle_Income_Area_left_parenthesis_a_red_line_is_a_mean_value_hyphen_minus_43_comma_050_full_stop_right_parenthesis :Curve   [Date Approved]   (Loan Amount)\n",
       "   .HLine.I                                                                                                                                            :HLine   [x,y]"
      ]
     },
     "execution_count": 118,
     "metadata": {
      "application/vnd.holoviews_exec.v0+json": {
       "id": "3730"
      }
     },
     "output_type": "execute_result"
    }
   ],
   "source": [
    "# SBA Middle Income Data hvPlot \n",
    "Middle_income_plot = SBA_PPP_Zip_Middle_Income.hvplot.line(\n",
    "    x=\"Date Approved\",\n",
    "    y= \"Loan Amount\",\n",
    "    label = \"Loan Amount Received in Middle Income Area (a red line is a mean value - $43,050.)\", \n",
    "    rot=90,\n",
    ").opts(yformatter= \"$ %.0f\", width=1000, height=400)\n",
    "hline = hv.HLine(43050)\n",
    "hline.opts(\n",
    "    color='red', \n",
    "    line_dash='dashed', \n",
    "    line_width=2.0,\n",
    ")\n",
    "middle_income_loan_gr = Middle_income_plot*hline\n",
    "middle_income_loan_gr"
   ]
  },
  {
   "cell_type": "code",
   "execution_count": 121,
   "metadata": {},
   "outputs": [
    {
     "data": {
      "application/vnd.holoviews_exec.v0+json": "",
      "text/html": [
       "<div id='3891'>\n",
       "\n",
       "\n",
       "\n",
       "\n",
       "\n",
       "  <div class=\"bk-root\" id=\"6c33c74b-1dec-4483-8642-9b541056f7be\" data-root-id=\"3891\"></div>\n",
       "</div>\n",
       "<script type=\"application/javascript\">(function(root) {\n",
       "  function embed_document(root) {\n",
       "  var docs_json = {\"19e6582b-23ae-4888-a597-ec14472f367e\":{\"roots\":{\"references\":[{\"attributes\":{\"items\":[]},\"id\":\"3947\",\"type\":\"Legend\"},{\"attributes\":{\"level\":\"glyph\",\"line_color\":\"red\",\"line_dash\":[6],\"line_width\":2.0,\"location\":59194},\"id\":\"3951\",\"type\":\"Span\"},{\"attributes\":{\"data_source\":{\"id\":\"3932\"},\"glyph\":{\"id\":\"3935\"},\"hover_glyph\":null,\"muted_glyph\":{\"id\":\"3937\"},\"nonselection_glyph\":{\"id\":\"3936\"},\"selection_glyph\":null,\"view\":{\"id\":\"3939\"}},\"id\":\"3938\",\"type\":\"GlyphRenderer\"},{\"attributes\":{},\"id\":\"3913\",\"type\":\"PanTool\"},{\"attributes\":{\"line_alpha\":0.1,\"line_color\":\"#1f77b3\",\"line_width\":2,\"x\":{\"field\":\"Date Approved\"},\"y\":{\"field\":\"Loan Amount\"}},\"id\":\"3936\",\"type\":\"Line\"},{\"attributes\":{\"data\":{\"Date Approved\":[\"04/07/2020\",\"04/09/2020\",\"04/09/2020\",\"04/10/2020\",\"04/11/2020\",\"04/11/2020\",\"04/11/2020\",\"04/11/2020\",\"04/11/2020\",\"04/11/2020\",\"04/11/2020\",\"04/11/2020\",\"04/11/2020\",\"04/11/2020\",\"04/12/2020\",\"04/12/2020\",\"04/12/2020\",\"04/12/2020\",\"04/12/2020\",\"04/12/2020\",\"04/12/2020\",\"04/13/2020\",\"04/13/2020\",\"04/13/2020\",\"04/13/2020\",\"04/13/2020\",\"04/13/2020\",\"04/13/2020\",\"04/13/2020\",\"04/13/2020\",\"04/14/2020\",\"04/14/2020\",\"04/14/2020\",\"04/14/2020\",\"04/14/2020\",\"04/14/2020\",\"04/14/2020\",\"04/14/2020\",\"04/14/2020\",\"04/14/2020\",\"04/14/2020\",\"04/14/2020\",\"04/14/2020\",\"04/14/2020\",\"04/14/2020\",\"04/15/2020\",\"04/15/2020\",\"04/15/2020\",\"04/15/2020\",\"04/15/2020\",\"04/15/2020\",\"04/15/2020\",\"04/15/2020\",\"04/15/2020\",\"04/15/2020\",\"04/15/2020\",\"04/15/2020\",\"04/15/2020\",\"04/15/2020\",\"04/15/2020\",\"04/15/2020\",\"04/15/2020\",\"04/15/2020\",\"04/15/2020\",\"04/15/2020\",\"04/15/2020\",\"04/15/2020\",\"04/15/2020\",\"04/15/2020\",\"04/15/2020\",\"04/15/2020\",\"04/15/2020\",\"04/15/2020\",\"04/16/2020\",\"04/16/2020\",\"04/16/2020\",\"04/16/2020\",\"04/16/2020\",\"04/16/2020\",\"04/16/2020\",\"04/16/2020\",\"04/16/2020\",\"04/16/2020\",\"04/16/2020\",\"04/16/2020\",\"04/27/2020\",\"04/27/2020\",\"04/27/2020\",\"04/27/2020\",\"04/27/2020\",\"04/27/2020\",\"04/27/2020\",\"04/27/2020\",\"04/27/2020\",\"04/27/2020\",\"04/27/2020\",\"04/27/2020\",\"04/27/2020\",\"04/27/2020\",\"04/27/2020\",\"04/27/2020\",\"04/27/2020\",\"04/27/2020\",\"04/27/2020\",\"04/27/2020\",\"04/27/2020\",\"04/27/2020\",\"04/27/2020\",\"04/27/2020\",\"04/27/2020\",\"04/27/2020\",\"04/27/2020\",\"04/27/2020\",\"04/28/2020\",\"04/28/2020\",\"04/28/2020\",\"04/28/2020\",\"04/28/2020\",\"04/28/2020\",\"04/28/2020\",\"04/28/2020\",\"04/28/2020\",\"04/28/2020\",\"04/28/2020\",\"04/28/2020\",\"04/28/2020\",\"04/28/2020\",\"04/28/2020\",\"04/28/2020\",\"04/28/2020\",\"04/28/2020\",\"04/28/2020\",\"04/28/2020\",\"04/28/2020\",\"04/28/2020\",\"04/28/2020\",\"04/28/2020\",\"04/28/2020\",\"04/28/2020\",\"04/28/2020\",\"04/28/2020\",\"04/28/2020\",\"04/28/2020\",\"04/28/2020\",\"04/28/2020\",\"04/28/2020\",\"04/28/2020\",\"04/28/2020\",\"04/28/2020\",\"04/28/2020\",\"04/28/2020\",\"04/28/2020\",\"04/28/2020\",\"04/28/2020\",\"04/29/2020\",\"04/29/2020\",\"04/29/2020\",\"04/29/2020\",\"04/29/2020\",\"04/29/2020\",\"04/29/2020\",\"04/29/2020\",\"04/29/2020\",\"04/29/2020\",\"04/29/2020\",\"04/29/2020\",\"04/29/2020\",\"04/29/2020\",\"04/29/2020\",\"04/29/2020\",\"04/29/2020\",\"04/29/2020\",\"04/29/2020\",\"04/29/2020\",\"04/29/2020\",\"04/29/2020\",\"04/29/2020\",\"04/29/2020\",\"04/29/2020\",\"04/29/2020\",\"04/29/2020\",\"04/29/2020\",\"04/29/2020\",\"04/29/2020\",\"04/29/2020\",\"04/29/2020\",\"04/29/2020\",\"04/29/2020\",\"04/29/2020\",\"04/29/2020\",\"04/30/2020\",\"04/30/2020\",\"04/30/2020\",\"04/30/2020\",\"04/30/2020\",\"04/30/2020\",\"04/30/2020\",\"04/30/2020\",\"04/30/2020\",\"04/30/2020\",\"04/30/2020\",\"04/30/2020\",\"04/30/2020\",\"04/30/2020\",\"04/30/2020\",\"04/30/2020\",\"04/30/2020\",\"04/30/2020\",\"04/30/2020\",\"04/30/2020\",\"04/30/2020\",\"04/30/2020\",\"04/30/2020\",\"04/30/2020\",\"04/30/2020\",\"04/30/2020\",\"04/30/2020\",\"04/30/2020\",\"04/30/2020\",\"04/30/2020\",\"04/30/2020\",\"04/30/2020\",\"04/30/2020\",\"04/30/2020\",\"04/30/2020\",\"04/30/2020\",\"04/30/2020\",\"04/30/2020\",\"04/30/2020\",\"04/30/2020\",\"04/30/2020\",\"04/30/2020\",\"04/30/2020\",\"04/30/2020\",\"04/30/2020\",\"04/30/2020\",\"04/30/2020\",\"04/30/2020\",\"04/30/2020\",\"04/30/2020\",\"04/30/2020\",\"04/30/2020\",\"04/30/2020\",\"04/30/2020\",\"04/30/2020\",\"04/30/2020\",\"04/30/2020\",\"04/30/2020\",\"04/30/2020\",\"04/30/2020\",\"05/01/2020\",\"05/01/2020\",\"05/01/2020\",\"05/01/2020\",\"05/01/2020\",\"05/01/2020\",\"05/01/2020\",\"05/01/2020\",\"05/01/2020\",\"05/01/2020\",\"05/01/2020\",\"05/01/2020\",\"05/01/2020\",\"05/01/2020\",\"05/01/2020\",\"05/01/2020\",\"05/01/2020\",\"05/01/2020\",\"05/01/2020\",\"05/01/2020\",\"05/01/2020\",\"05/01/2020\",\"05/01/2020\",\"05/01/2020\",\"05/01/2020\",\"05/01/2020\",\"05/01/2020\",\"05/01/2020\",\"05/01/2020\",\"05/01/2020\",\"05/01/2020\",\"05/01/2020\",\"05/01/2020\",\"05/01/2020\",\"05/01/2020\",\"05/01/2020\",\"05/01/2020\",\"05/01/2020\",\"05/01/2020\",\"05/01/2020\",\"05/01/2020\",\"05/01/2020\",\"05/01/2020\",\"05/01/2020\",\"05/01/2020\",\"05/01/2020\",\"05/01/2020\",\"05/01/2020\",\"05/01/2020\",\"05/01/2020\",\"05/01/2020\",\"05/01/2020\",\"05/01/2020\",\"05/01/2020\",\"05/01/2020\",\"05/01/2020\",\"05/01/2020\",\"05/01/2020\",\"05/01/2020\",\"05/01/2020\",\"05/01/2020\",\"05/01/2020\",\"05/01/2020\",\"05/01/2020\",\"05/01/2020\",\"05/01/2020\",\"05/01/2020\",\"05/01/2020\",\"05/01/2020\",\"05/01/2020\",\"05/01/2020\",\"05/01/2020\",\"05/01/2020\",\"05/01/2020\",\"05/01/2020\",\"05/01/2020\",\"05/01/2020\",\"05/01/2020\",\"05/01/2020\",\"05/01/2020\",\"05/01/2020\",\"05/01/2020\",\"05/01/2020\",\"05/01/2020\",\"05/01/2020\",\"05/01/2020\",\"05/01/2020\",\"05/01/2020\",\"05/01/2020\",\"05/01/2020\",\"05/01/2020\",\"05/01/2020\",\"05/01/2020\",\"05/01/2020\",\"05/01/2020\",\"05/01/2020\",\"05/01/2020\",\"05/01/2020\",\"05/01/2020\",\"05/01/2020\",\"05/01/2020\",\"05/01/2020\",\"05/01/2020\",\"05/01/2020\",\"05/01/2020\",\"05/01/2020\",\"05/02/2020\",\"05/02/2020\",\"05/02/2020\",\"05/02/2020\",\"05/02/2020\",\"05/02/2020\",\"05/03/2020\",\"05/03/2020\",\"05/03/2020\",\"05/03/2020\",\"05/03/2020\",\"05/03/2020\",\"05/03/2020\",\"05/03/2020\",\"05/03/2020\",\"05/03/2020\",\"05/03/2020\",\"05/03/2020\",\"05/03/2020\",\"05/03/2020\",\"05/03/2020\",\"05/03/2020\",\"05/03/2020\",\"05/03/2020\",\"05/03/2020\",\"05/03/2020\",\"05/03/2020\",\"05/03/2020\",\"05/03/2020\",\"05/03/2020\",\"05/03/2020\",\"05/03/2020\",\"05/03/2020\",\"05/03/2020\",\"05/03/2020\",\"05/03/2020\",\"05/03/2020\",\"05/03/2020\",\"05/03/2020\",\"05/03/2020\",\"05/03/2020\",\"05/03/2020\",\"05/03/2020\",\"05/03/2020\",\"05/03/2020\",\"05/03/2020\",\"05/03/2020\",\"05/03/2020\",\"05/03/2020\",\"05/03/2020\",\"05/03/2020\",\"05/03/2020\",\"05/03/2020\",\"05/03/2020\",\"05/03/2020\",\"05/03/2020\",\"05/03/2020\",\"05/03/2020\",\"05/03/2020\",\"05/03/2020\",\"05/03/2020\",\"05/04/2020\",\"05/04/2020\",\"05/04/2020\",\"05/04/2020\",\"05/04/2020\",\"05/04/2020\",\"05/04/2020\",\"05/04/2020\",\"05/04/2020\",\"05/04/2020\",\"05/04/2020\",\"05/04/2020\",\"05/04/2020\",\"05/05/2020\",\"05/05/2020\",\"05/05/2020\",\"05/05/2020\",\"05/05/2020\",\"05/05/2020\",\"05/05/2020\",\"05/05/2020\",\"05/05/2020\",\"05/06/2020\",\"05/06/2020\",\"05/06/2020\",\"05/06/2020\",\"05/06/2020\",\"05/06/2020\",\"05/06/2020\",\"05/07/2020\",\"05/07/2020\",\"05/07/2020\",\"05/07/2020\",\"05/07/2020\",\"05/07/2020\",\"05/07/2020\",\"05/08/2020\",\"05/08/2020\",\"05/08/2020\",\"05/09/2020\",\"05/09/2020\",\"05/10/2020\",\"05/11/2020\",\"05/11/2020\",\"05/11/2020\",\"05/11/2020\",\"05/11/2020\",\"05/11/2020\",\"05/11/2020\",\"05/11/2020\",\"05/11/2020\",\"05/11/2020\",\"05/12/2020\",\"05/12/2020\",\"05/12/2020\",\"05/12/2020\",\"05/12/2020\",\"05/12/2020\",\"05/13/2020\",\"05/13/2020\",\"05/13/2020\",\"05/13/2020\",\"05/13/2020\",\"05/13/2020\",\"05/13/2020\",\"05/14/2020\",\"05/14/2020\",\"05/14/2020\",\"05/14/2020\",\"05/14/2020\",\"05/14/2020\",\"05/14/2020\",\"05/15/2020\",\"05/15/2020\",\"05/15/2020\",\"05/15/2020\",\"05/15/2020\",\"05/16/2020\",\"05/16/2020\",\"05/18/2020\",\"05/18/2020\",\"05/18/2020\",\"05/18/2020\",\"05/18/2020\",\"05/19/2020\",\"05/19/2020\",\"05/19/2020\",\"05/19/2020\",\"05/19/2020\",\"05/19/2020\",\"05/20/2020\",\"05/20/2020\",\"05/20/2020\",\"05/20/2020\",\"05/20/2020\",\"05/20/2020\",\"05/21/2020\",\"05/21/2020\",\"05/22/2020\",\"05/22/2020\",\"05/22/2020\",\"05/24/2020\",\"05/26/2020\",\"05/26/2020\",\"05/27/2020\",\"05/27/2020\",\"05/27/2020\",\"05/27/2020\",\"05/27/2020\",\"05/27/2020\",\"05/27/2020\",\"05/28/2020\",\"05/28/2020\",\"05/28/2020\",\"05/28/2020\",\"05/29/2020\",\"05/29/2020\",\"06/01/2020\",\"06/02/2020\",\"06/03/2020\",\"06/03/2020\",\"06/03/2020\",\"06/03/2020\",\"06/05/2020\",\"06/05/2020\",\"06/07/2020\",\"06/08/2020\",\"06/08/2020\",\"06/12/2020\",\"06/13/2020\",\"06/15/2020\",\"06/15/2020\",\"06/16/2020\",\"06/16/2020\",\"06/16/2020\",\"06/16/2020\",\"06/17/2020\",\"06/18/2020\",\"06/18/2020\",\"06/19/2020\",\"06/19/2020\",\"06/19/2020\",\"06/19/2020\",\"06/22/2020\",\"06/22/2020\",\"06/22/2020\",\"06/22/2020\",\"06/22/2020\",\"06/23/2020\",\"06/23/2020\",\"06/24/2020\",\"06/24/2020\",\"06/24/2020\",\"06/25/2020\",\"06/25/2020\",\"06/25/2020\",\"06/25/2020\",\"06/25/2020\",\"06/25/2020\",\"06/26/2020\",\"06/26/2020\",\"06/26/2020\",\"06/27/2020\",\"06/29/2020\",\"06/29/2020\",\"06/29/2020\",\"06/30/2020\",\"06/30/2020\",\"06/30/2020\",\"06/30/2020\",\"06/30/2020\",\"06/30/2020\"],\"Date_Approved\":[\"04/07/2020\",\"04/09/2020\",\"04/09/2020\",\"04/10/2020\",\"04/11/2020\",\"04/11/2020\",\"04/11/2020\",\"04/11/2020\",\"04/11/2020\",\"04/11/2020\",\"04/11/2020\",\"04/11/2020\",\"04/11/2020\",\"04/11/2020\",\"04/12/2020\",\"04/12/2020\",\"04/12/2020\",\"04/12/2020\",\"04/12/2020\",\"04/12/2020\",\"04/12/2020\",\"04/13/2020\",\"04/13/2020\",\"04/13/2020\",\"04/13/2020\",\"04/13/2020\",\"04/13/2020\",\"04/13/2020\",\"04/13/2020\",\"04/13/2020\",\"04/14/2020\",\"04/14/2020\",\"04/14/2020\",\"04/14/2020\",\"04/14/2020\",\"04/14/2020\",\"04/14/2020\",\"04/14/2020\",\"04/14/2020\",\"04/14/2020\",\"04/14/2020\",\"04/14/2020\",\"04/14/2020\",\"04/14/2020\",\"04/14/2020\",\"04/15/2020\",\"04/15/2020\",\"04/15/2020\",\"04/15/2020\",\"04/15/2020\",\"04/15/2020\",\"04/15/2020\",\"04/15/2020\",\"04/15/2020\",\"04/15/2020\",\"04/15/2020\",\"04/15/2020\",\"04/15/2020\",\"04/15/2020\",\"04/15/2020\",\"04/15/2020\",\"04/15/2020\",\"04/15/2020\",\"04/15/2020\",\"04/15/2020\",\"04/15/2020\",\"04/15/2020\",\"04/15/2020\",\"04/15/2020\",\"04/15/2020\",\"04/15/2020\",\"04/15/2020\",\"04/15/2020\",\"04/16/2020\",\"04/16/2020\",\"04/16/2020\",\"04/16/2020\",\"04/16/2020\",\"04/16/2020\",\"04/16/2020\",\"04/16/2020\",\"04/16/2020\",\"04/16/2020\",\"04/16/2020\",\"04/16/2020\",\"04/27/2020\",\"04/27/2020\",\"04/27/2020\",\"04/27/2020\",\"04/27/2020\",\"04/27/2020\",\"04/27/2020\",\"04/27/2020\",\"04/27/2020\",\"04/27/2020\",\"04/27/2020\",\"04/27/2020\",\"04/27/2020\",\"04/27/2020\",\"04/27/2020\",\"04/27/2020\",\"04/27/2020\",\"04/27/2020\",\"04/27/2020\",\"04/27/2020\",\"04/27/2020\",\"04/27/2020\",\"04/27/2020\",\"04/27/2020\",\"04/27/2020\",\"04/27/2020\",\"04/27/2020\",\"04/27/2020\",\"04/28/2020\",\"04/28/2020\",\"04/28/2020\",\"04/28/2020\",\"04/28/2020\",\"04/28/2020\",\"04/28/2020\",\"04/28/2020\",\"04/28/2020\",\"04/28/2020\",\"04/28/2020\",\"04/28/2020\",\"04/28/2020\",\"04/28/2020\",\"04/28/2020\",\"04/28/2020\",\"04/28/2020\",\"04/28/2020\",\"04/28/2020\",\"04/28/2020\",\"04/28/2020\",\"04/28/2020\",\"04/28/2020\",\"04/28/2020\",\"04/28/2020\",\"04/28/2020\",\"04/28/2020\",\"04/28/2020\",\"04/28/2020\",\"04/28/2020\",\"04/28/2020\",\"04/28/2020\",\"04/28/2020\",\"04/28/2020\",\"04/28/2020\",\"04/28/2020\",\"04/28/2020\",\"04/28/2020\",\"04/28/2020\",\"04/28/2020\",\"04/28/2020\",\"04/29/2020\",\"04/29/2020\",\"04/29/2020\",\"04/29/2020\",\"04/29/2020\",\"04/29/2020\",\"04/29/2020\",\"04/29/2020\",\"04/29/2020\",\"04/29/2020\",\"04/29/2020\",\"04/29/2020\",\"04/29/2020\",\"04/29/2020\",\"04/29/2020\",\"04/29/2020\",\"04/29/2020\",\"04/29/2020\",\"04/29/2020\",\"04/29/2020\",\"04/29/2020\",\"04/29/2020\",\"04/29/2020\",\"04/29/2020\",\"04/29/2020\",\"04/29/2020\",\"04/29/2020\",\"04/29/2020\",\"04/29/2020\",\"04/29/2020\",\"04/29/2020\",\"04/29/2020\",\"04/29/2020\",\"04/29/2020\",\"04/29/2020\",\"04/29/2020\",\"04/30/2020\",\"04/30/2020\",\"04/30/2020\",\"04/30/2020\",\"04/30/2020\",\"04/30/2020\",\"04/30/2020\",\"04/30/2020\",\"04/30/2020\",\"04/30/2020\",\"04/30/2020\",\"04/30/2020\",\"04/30/2020\",\"04/30/2020\",\"04/30/2020\",\"04/30/2020\",\"04/30/2020\",\"04/30/2020\",\"04/30/2020\",\"04/30/2020\",\"04/30/2020\",\"04/30/2020\",\"04/30/2020\",\"04/30/2020\",\"04/30/2020\",\"04/30/2020\",\"04/30/2020\",\"04/30/2020\",\"04/30/2020\",\"04/30/2020\",\"04/30/2020\",\"04/30/2020\",\"04/30/2020\",\"04/30/2020\",\"04/30/2020\",\"04/30/2020\",\"04/30/2020\",\"04/30/2020\",\"04/30/2020\",\"04/30/2020\",\"04/30/2020\",\"04/30/2020\",\"04/30/2020\",\"04/30/2020\",\"04/30/2020\",\"04/30/2020\",\"04/30/2020\",\"04/30/2020\",\"04/30/2020\",\"04/30/2020\",\"04/30/2020\",\"04/30/2020\",\"04/30/2020\",\"04/30/2020\",\"04/30/2020\",\"04/30/2020\",\"04/30/2020\",\"04/30/2020\",\"04/30/2020\",\"04/30/2020\",\"05/01/2020\",\"05/01/2020\",\"05/01/2020\",\"05/01/2020\",\"05/01/2020\",\"05/01/2020\",\"05/01/2020\",\"05/01/2020\",\"05/01/2020\",\"05/01/2020\",\"05/01/2020\",\"05/01/2020\",\"05/01/2020\",\"05/01/2020\",\"05/01/2020\",\"05/01/2020\",\"05/01/2020\",\"05/01/2020\",\"05/01/2020\",\"05/01/2020\",\"05/01/2020\",\"05/01/2020\",\"05/01/2020\",\"05/01/2020\",\"05/01/2020\",\"05/01/2020\",\"05/01/2020\",\"05/01/2020\",\"05/01/2020\",\"05/01/2020\",\"05/01/2020\",\"05/01/2020\",\"05/01/2020\",\"05/01/2020\",\"05/01/2020\",\"05/01/2020\",\"05/01/2020\",\"05/01/2020\",\"05/01/2020\",\"05/01/2020\",\"05/01/2020\",\"05/01/2020\",\"05/01/2020\",\"05/01/2020\",\"05/01/2020\",\"05/01/2020\",\"05/01/2020\",\"05/01/2020\",\"05/01/2020\",\"05/01/2020\",\"05/01/2020\",\"05/01/2020\",\"05/01/2020\",\"05/01/2020\",\"05/01/2020\",\"05/01/2020\",\"05/01/2020\",\"05/01/2020\",\"05/01/2020\",\"05/01/2020\",\"05/01/2020\",\"05/01/2020\",\"05/01/2020\",\"05/01/2020\",\"05/01/2020\",\"05/01/2020\",\"05/01/2020\",\"05/01/2020\",\"05/01/2020\",\"05/01/2020\",\"05/01/2020\",\"05/01/2020\",\"05/01/2020\",\"05/01/2020\",\"05/01/2020\",\"05/01/2020\",\"05/01/2020\",\"05/01/2020\",\"05/01/2020\",\"05/01/2020\",\"05/01/2020\",\"05/01/2020\",\"05/01/2020\",\"05/01/2020\",\"05/01/2020\",\"05/01/2020\",\"05/01/2020\",\"05/01/2020\",\"05/01/2020\",\"05/01/2020\",\"05/01/2020\",\"05/01/2020\",\"05/01/2020\",\"05/01/2020\",\"05/01/2020\",\"05/01/2020\",\"05/01/2020\",\"05/01/2020\",\"05/01/2020\",\"05/01/2020\",\"05/01/2020\",\"05/01/2020\",\"05/01/2020\",\"05/01/2020\",\"05/01/2020\",\"05/01/2020\",\"05/02/2020\",\"05/02/2020\",\"05/02/2020\",\"05/02/2020\",\"05/02/2020\",\"05/02/2020\",\"05/03/2020\",\"05/03/2020\",\"05/03/2020\",\"05/03/2020\",\"05/03/2020\",\"05/03/2020\",\"05/03/2020\",\"05/03/2020\",\"05/03/2020\",\"05/03/2020\",\"05/03/2020\",\"05/03/2020\",\"05/03/2020\",\"05/03/2020\",\"05/03/2020\",\"05/03/2020\",\"05/03/2020\",\"05/03/2020\",\"05/03/2020\",\"05/03/2020\",\"05/03/2020\",\"05/03/2020\",\"05/03/2020\",\"05/03/2020\",\"05/03/2020\",\"05/03/2020\",\"05/03/2020\",\"05/03/2020\",\"05/03/2020\",\"05/03/2020\",\"05/03/2020\",\"05/03/2020\",\"05/03/2020\",\"05/03/2020\",\"05/03/2020\",\"05/03/2020\",\"05/03/2020\",\"05/03/2020\",\"05/03/2020\",\"05/03/2020\",\"05/03/2020\",\"05/03/2020\",\"05/03/2020\",\"05/03/2020\",\"05/03/2020\",\"05/03/2020\",\"05/03/2020\",\"05/03/2020\",\"05/03/2020\",\"05/03/2020\",\"05/03/2020\",\"05/03/2020\",\"05/03/2020\",\"05/03/2020\",\"05/03/2020\",\"05/04/2020\",\"05/04/2020\",\"05/04/2020\",\"05/04/2020\",\"05/04/2020\",\"05/04/2020\",\"05/04/2020\",\"05/04/2020\",\"05/04/2020\",\"05/04/2020\",\"05/04/2020\",\"05/04/2020\",\"05/04/2020\",\"05/05/2020\",\"05/05/2020\",\"05/05/2020\",\"05/05/2020\",\"05/05/2020\",\"05/05/2020\",\"05/05/2020\",\"05/05/2020\",\"05/05/2020\",\"05/06/2020\",\"05/06/2020\",\"05/06/2020\",\"05/06/2020\",\"05/06/2020\",\"05/06/2020\",\"05/06/2020\",\"05/07/2020\",\"05/07/2020\",\"05/07/2020\",\"05/07/2020\",\"05/07/2020\",\"05/07/2020\",\"05/07/2020\",\"05/08/2020\",\"05/08/2020\",\"05/08/2020\",\"05/09/2020\",\"05/09/2020\",\"05/10/2020\",\"05/11/2020\",\"05/11/2020\",\"05/11/2020\",\"05/11/2020\",\"05/11/2020\",\"05/11/2020\",\"05/11/2020\",\"05/11/2020\",\"05/11/2020\",\"05/11/2020\",\"05/12/2020\",\"05/12/2020\",\"05/12/2020\",\"05/12/2020\",\"05/12/2020\",\"05/12/2020\",\"05/13/2020\",\"05/13/2020\",\"05/13/2020\",\"05/13/2020\",\"05/13/2020\",\"05/13/2020\",\"05/13/2020\",\"05/14/2020\",\"05/14/2020\",\"05/14/2020\",\"05/14/2020\",\"05/14/2020\",\"05/14/2020\",\"05/14/2020\",\"05/15/2020\",\"05/15/2020\",\"05/15/2020\",\"05/15/2020\",\"05/15/2020\",\"05/16/2020\",\"05/16/2020\",\"05/18/2020\",\"05/18/2020\",\"05/18/2020\",\"05/18/2020\",\"05/18/2020\",\"05/19/2020\",\"05/19/2020\",\"05/19/2020\",\"05/19/2020\",\"05/19/2020\",\"05/19/2020\",\"05/20/2020\",\"05/20/2020\",\"05/20/2020\",\"05/20/2020\",\"05/20/2020\",\"05/20/2020\",\"05/21/2020\",\"05/21/2020\",\"05/22/2020\",\"05/22/2020\",\"05/22/2020\",\"05/24/2020\",\"05/26/2020\",\"05/26/2020\",\"05/27/2020\",\"05/27/2020\",\"05/27/2020\",\"05/27/2020\",\"05/27/2020\",\"05/27/2020\",\"05/27/2020\",\"05/28/2020\",\"05/28/2020\",\"05/28/2020\",\"05/28/2020\",\"05/29/2020\",\"05/29/2020\",\"06/01/2020\",\"06/02/2020\",\"06/03/2020\",\"06/03/2020\",\"06/03/2020\",\"06/03/2020\",\"06/05/2020\",\"06/05/2020\",\"06/07/2020\",\"06/08/2020\",\"06/08/2020\",\"06/12/2020\",\"06/13/2020\",\"06/15/2020\",\"06/15/2020\",\"06/16/2020\",\"06/16/2020\",\"06/16/2020\",\"06/16/2020\",\"06/17/2020\",\"06/18/2020\",\"06/18/2020\",\"06/19/2020\",\"06/19/2020\",\"06/19/2020\",\"06/19/2020\",\"06/22/2020\",\"06/22/2020\",\"06/22/2020\",\"06/22/2020\",\"06/22/2020\",\"06/23/2020\",\"06/23/2020\",\"06/24/2020\",\"06/24/2020\",\"06/24/2020\",\"06/25/2020\",\"06/25/2020\",\"06/25/2020\",\"06/25/2020\",\"06/25/2020\",\"06/25/2020\",\"06/26/2020\",\"06/26/2020\",\"06/26/2020\",\"06/27/2020\",\"06/29/2020\",\"06/29/2020\",\"06/29/2020\",\"06/30/2020\",\"06/30/2020\",\"06/30/2020\",\"06/30/2020\",\"06/30/2020\",\"06/30/2020\"],\"Loan Amount\":{\"__ndarray__\":\"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\",\"dtype\":\"float64\",\"order\":\"little\",\"shape\":[589]},\"Loan_Amount\":{\"__ndarray__\":\"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\",\"dtype\":\"float64\",\"order\":\"little\",\"shape\":[589]}},\"selected\":{\"id\":\"3933\"},\"selection_policy\":{\"id\":\"3945\"}},\"id\":\"3932\",\"type\":\"ColumnDataSource\"},{\"attributes\":{},\"id\":\"3945\",\"type\":\"UnionRenderers\"},{\"attributes\":{},\"id\":\"3914\",\"type\":\"WheelZoomTool\"},{\"attributes\":{},\"id\":\"3901\",\"type\":\"CategoricalScale\"},{\"attributes\":{},\"id\":\"3933\",\"type\":\"Selection\"},{\"attributes\":{},\"id\":\"3903\",\"type\":\"LinearScale\"},{\"attributes\":{\"bottom_units\":\"screen\",\"fill_alpha\":0.5,\"fill_color\":\"lightgrey\",\"left_units\":\"screen\",\"level\":\"overlay\",\"line_alpha\":1.0,\"line_color\":\"black\",\"line_dash\":[4,4],\"line_width\":2,\"right_units\":\"screen\",\"top_units\":\"screen\"},\"id\":\"3917\",\"type\":\"BoxAnnotation\"},{\"attributes\":{\"axis\":{\"id\":\"3905\"},\"grid_line_color\":null,\"ticker\":null},\"id\":\"3907\",\"type\":\"Grid\"},{\"attributes\":{\"margin\":[5,5,5,5],\"name\":\"HSpacer08345\",\"sizing_mode\":\"stretch_width\"},\"id\":\"4015\",\"type\":\"Spacer\"},{\"attributes\":{\"overlay\":{\"id\":\"3917\"}},\"id\":\"3915\",\"type\":\"BoxZoomTool\"},{\"attributes\":{\"active_drag\":\"auto\",\"active_inspect\":\"auto\",\"active_multi\":null,\"active_scroll\":\"auto\",\"active_tap\":\"auto\",\"tools\":[{\"id\":\"3895\"},{\"id\":\"3912\"},{\"id\":\"3913\"},{\"id\":\"3914\"},{\"id\":\"3915\"},{\"id\":\"3916\"}]},\"id\":\"3918\",\"type\":\"Toolbar\"},{\"attributes\":{\"align\":null,\"below\":[{\"id\":\"3905\"}],\"center\":[{\"id\":\"3907\"},{\"id\":\"3911\"},{\"id\":\"3947\"}],\"left\":[{\"id\":\"3908\"}],\"margin\":null,\"min_border_bottom\":10,\"min_border_left\":10,\"min_border_right\":10,\"min_border_top\":10,\"plot_height\":400,\"plot_width\":1000,\"renderers\":[{\"id\":\"3938\"},{\"id\":\"3951\"}],\"sizing_mode\":\"fixed\",\"title\":{\"id\":\"3897\"},\"toolbar\":{\"id\":\"3918\"},\"x_range\":{\"id\":\"3893\"},\"x_scale\":{\"id\":\"3901\"},\"y_range\":{\"id\":\"3894\"},\"y_scale\":{\"id\":\"3903\"}},\"id\":\"3896\",\"subtype\":\"Figure\",\"type\":\"Plot\"},{\"attributes\":{},\"id\":\"3906\",\"type\":\"CategoricalTicker\"},{\"attributes\":{\"callback\":null,\"renderers\":[{\"id\":\"3938\"}],\"tags\":[\"hv_created\"],\"tooltips\":[[\"Date Approved\",\"@{Date_Approved}\"],[\"Loan Amount\",\"@{Loan_Amount}\"]]},\"id\":\"3895\",\"type\":\"HoverTool\"},{\"attributes\":{\"text\":\"Loan Amount Received in High Income Area (a red line is a mean value - $59,194.)\",\"text_color\":{\"value\":\"black\"},\"text_font_size\":{\"value\":\"12pt\"}},\"id\":\"3897\",\"type\":\"Title\"},{\"attributes\":{\"axis_label\":\"Loan Amount\",\"bounds\":\"auto\",\"formatter\":{\"id\":\"3925\"},\"major_label_orientation\":\"horizontal\",\"ticker\":{\"id\":\"3909\"}},\"id\":\"3908\",\"type\":\"LinearAxis\"},{\"attributes\":{\"factors\":[\"04/07/2020\",\"04/09/2020\",\"04/10/2020\",\"04/11/2020\",\"04/12/2020\",\"04/13/2020\",\"04/14/2020\",\"04/15/2020\",\"04/16/2020\",\"04/27/2020\",\"04/28/2020\",\"04/29/2020\",\"04/30/2020\",\"05/01/2020\",\"05/02/2020\",\"05/03/2020\",\"05/04/2020\",\"05/05/2020\",\"05/06/2020\",\"05/07/2020\",\"05/08/2020\",\"05/09/2020\",\"05/10/2020\",\"05/11/2020\",\"05/12/2020\",\"05/13/2020\",\"05/14/2020\",\"05/15/2020\",\"05/16/2020\",\"05/18/2020\",\"05/19/2020\",\"05/20/2020\",\"05/21/2020\",\"05/22/2020\",\"05/24/2020\",\"05/26/2020\",\"05/27/2020\",\"05/28/2020\",\"05/29/2020\",\"06/01/2020\",\"06/02/2020\",\"06/03/2020\",\"06/05/2020\",\"06/07/2020\",\"06/08/2020\",\"06/12/2020\",\"06/13/2020\",\"06/15/2020\",\"06/16/2020\",\"06/17/2020\",\"06/18/2020\",\"06/19/2020\",\"06/22/2020\",\"06/23/2020\",\"06/24/2020\",\"06/25/2020\",\"06/26/2020\",\"06/27/2020\",\"06/29/2020\",\"06/30/2020\"],\"tags\":[[[\"Date Approved\",\"Date Approved\",null]]]},\"id\":\"3893\",\"type\":\"FactorRange\"},{\"attributes\":{\"axis\":{\"id\":\"3908\"},\"dimension\":1,\"grid_line_color\":null,\"ticker\":null},\"id\":\"3911\",\"type\":\"Grid\"},{\"attributes\":{\"line_alpha\":0.2,\"line_color\":\"#1f77b3\",\"line_width\":2,\"x\":{\"field\":\"Date Approved\"},\"y\":{\"field\":\"Loan Amount\"}},\"id\":\"3937\",\"type\":\"Line\"},{\"attributes\":{\"children\":[{\"id\":\"3892\"},{\"id\":\"3896\"},{\"id\":\"4015\"}],\"margin\":[0,0,0,0],\"name\":\"Row08340\",\"tags\":[\"embedded\"]},\"id\":\"3891\",\"type\":\"Row\"},{\"attributes\":{\"format\":\"$ %.0f\"},\"id\":\"3925\",\"type\":\"PrintfTickFormatter\"},{\"attributes\":{\"source\":{\"id\":\"3932\"}},\"id\":\"3939\",\"type\":\"CDSView\"},{\"attributes\":{},\"id\":\"3927\",\"type\":\"CategoricalTickFormatter\"},{\"attributes\":{\"margin\":[5,5,5,5],\"name\":\"HSpacer08344\",\"sizing_mode\":\"stretch_width\"},\"id\":\"3892\",\"type\":\"Spacer\"},{\"attributes\":{\"line_color\":\"#1f77b3\",\"line_width\":2,\"x\":{\"field\":\"Date Approved\"},\"y\":{\"field\":\"Loan Amount\"}},\"id\":\"3935\",\"type\":\"Line\"},{\"attributes\":{},\"id\":\"3909\",\"type\":\"BasicTicker\"},{\"attributes\":{},\"id\":\"3912\",\"type\":\"SaveTool\"},{\"attributes\":{\"axis_label\":\"Date Approved\",\"bounds\":\"auto\",\"formatter\":{\"id\":\"3927\"},\"major_label_orientation\":1.5707963267948966,\"ticker\":{\"id\":\"3906\"}},\"id\":\"3905\",\"type\":\"CategoricalAxis\"},{\"attributes\":{\"end\":164659.0,\"reset_end\":164659.0,\"reset_start\":-12449.0,\"start\":-12449.0,\"tags\":[[[\"Loan Amount\",\"Loan Amount\",null]]]},\"id\":\"3894\",\"type\":\"Range1d\"},{\"attributes\":{},\"id\":\"3916\",\"type\":\"ResetTool\"}],\"root_ids\":[\"3891\"]},\"title\":\"Bokeh Application\",\"version\":\"2.1.1\"}};\n",
       "  var render_items = [{\"docid\":\"19e6582b-23ae-4888-a597-ec14472f367e\",\"root_ids\":[\"3891\"],\"roots\":{\"3891\":\"6c33c74b-1dec-4483-8642-9b541056f7be\"}}];\n",
       "  root.Bokeh.embed.embed_items_notebook(docs_json, render_items);\n",
       "  }\n",
       "if (root.Bokeh !== undefined) {\n",
       "    embed_document(root);\n",
       "  } else {\n",
       "    var attempts = 0;\n",
       "    var timer = setInterval(function(root) {\n",
       "      if (root.Bokeh !== undefined) {\n",
       "        clearInterval(timer);\n",
       "        embed_document(root);\n",
       "      } else if (document.readyState == \"complete\") {\n",
       "        attempts++;\n",
       "        if (attempts > 100) {\n",
       "          clearInterval(timer);\n",
       "          console.log(\"Bokeh: ERROR: Unable to run BokehJS code because BokehJS library is missing\");\n",
       "        }\n",
       "      }\n",
       "    }, 10, root)\n",
       "  }\n",
       "})(window);</script>"
      ],
      "text/plain": [
       ":Overlay\n",
       "   .Curve.Loan_Amount_Received_in_High_Income_Area_left_parenthesis_a_red_line_is_a_mean_value_hyphen_minus_59_comma_194_full_stop_right_parenthesis :Curve   [Date Approved]   (Loan Amount)\n",
       "   .HLine.I                                                                                                                                          :HLine   [x,y]"
      ]
     },
     "execution_count": 121,
     "metadata": {
      "application/vnd.holoviews_exec.v0+json": {
       "id": "3891"
      }
     },
     "output_type": "execute_result"
    }
   ],
   "source": [
    "# SBA High Income Data hvPlot \n",
    "High_income_plot = SBA_PPP_Zip_High_Income.hvplot.line(\n",
    "    x=\"Date Approved\",\n",
    "    y= \"Loan Amount\",\n",
    "    label = \"Loan Amount Received in High Income Area (a red line is a mean value - $59,194.)\", \n",
    "    rot=90,\n",
    ").opts(yformatter= \"$ %.0f\", width=1000, height=400)\n",
    "hline = hv.HLine(59194)\n",
    "hline.opts(\n",
    "    color='red', \n",
    "    line_dash='dashed', \n",
    "    line_width=2.0,\n",
    ")\n",
    "high_income_loan_gr = High_income_plot*hline\n",
    "high_income_loan_gr"
   ]
  },
  {
   "cell_type": "code",
   "execution_count": 141,
   "metadata": {},
   "outputs": [],
   "source": [
    "SBA_Low_Income = SBA_PPP_Zip_Low_Income.drop(columns= ['Zip','NAICS Code'])"
   ]
  },
  {
   "cell_type": "code",
   "execution_count": 143,
   "metadata": {},
   "outputs": [
    {
     "data": {
      "text/plain": [
       "<matplotlib.axes._subplots.AxesSubplot at 0x7fe155ddd350>"
      ]
     },
     "execution_count": 143,
     "metadata": {},
     "output_type": "execute_result"
    },
    {
     "data": {
      "image/png": "[encoded data removed]",
      "text/plain": [
       "<Figure size 1440x720 with 1 Axes>"
      ]
     },
     "metadata": {
      "needs_background": "light"
     },
     "output_type": "display_data"
    }
   ],
   "source": [
    "SBA_Low_Income.plot.scatter(figsize=(20, 10), x='Loan Amount', y='Jobs Retained', c='DarkBlue', title='Loan amount recieved and number of jobs retained per loan')"
   ]
  },
  {
   "cell_type": "code",
   "execution_count": 149,
   "metadata": {},
   "outputs": [],
   "source": [
    "SBA_Middle_Income = SBA_PPP_Zip_Middle_Income.drop(columns= ['Zip','NAICS Code'])"
   ]
  },
  {
   "cell_type": "code",
   "execution_count": 151,
   "metadata": {},
   "outputs": [
    {
     "data": {
      "text/plain": [
       "<matplotlib.axes._subplots.AxesSubplot at 0x7fe1536ae550>"
      ]
     },
     "execution_count": 151,
     "metadata": {},
     "output_type": "execute_result"
    },
    {
     "data": {
      "image/png": "[encoded data removed]",
      "text/plain": [
       "<Figure size 1440x720 with 1 Axes>"
      ]
     },
     "metadata": {
      "needs_background": "light"
     },
     "output_type": "display_data"
    }
   ],
   "source": [
    "SBA_Middle_Income.plot.scatter(figsize=(20, 10), x='Loan Amount', y='Jobs Retained', c='DarkBlue', title='Loan amount recieved and number of jobs retained per loan')"
   ]
  },
  {
   "cell_type": "code",
   "execution_count": 152,
   "metadata": {},
   "outputs": [],
   "source": [
    "SBA_High_Income = SBA_PPP_Zip_High_Income.drop(columns= ['Zip','NAICS Code'])"
   ]
  },
  {
   "cell_type": "code",
   "execution_count": 153,
   "metadata": {},
   "outputs": [
    {
     "data": {
      "text/plain": [
       "<matplotlib.axes._subplots.AxesSubplot at 0x7fe155649e90>"
      ]
     },
     "execution_count": 153,
     "metadata": {},
     "output_type": "execute_result"
    },
    {
     "data": {
      "image/png": "[encoded data removed]",
      "text/plain": [
       "<Figure size 1440x720 with 1 Axes>"
      ]
     },
     "metadata": {
      "needs_background": "light"
     },
     "output_type": "display_data"
    }
   ],
   "source": [
    "SBA_High_Income.plot.scatter(figsize=(20, 10), x='Loan Amount', y='Jobs Retained', c='DarkBlue', title='Loan amount recieved and number of jobs retained per loan')"
   ]
  },
  {
   "cell_type": "code",
   "execution_count": 216,
   "metadata": {},
   "outputs": [],
   "source": [
    "# Which are got the most in funding : \n",
    "\n",
    "sum_low_income = SBA_PPP_Zip_Low_Income['Loan Amount'].sum()\n",
    "sum_middle_income = SBA_PPP_Zip_Middle_Income['Loan Amount'].sum()\n",
    "sum_high_income = SBA_PPP_Zip_High_Income['Loan Amount'].sum()\n",
    "\n",
    "plotting_loans = ['sum_low_income', 'sum_middle_income', 'sum_high_income']"
   ]
  },
  {
   "cell_type": "code",
   "execution_count": 217,
   "metadata": {},
   "outputs": [],
   "source": [
    "data = [['Low_income', 6508562], ['Middle_income', 19286695], ['High_income', 34865671]]\n"
   ]
  },
  {
   "cell_type": "code",
   "execution_count": 221,
   "metadata": {},
   "outputs": [
    {
     "data": {
      "text/html": [
       "<div>\n",
       "<style scoped>\n",
       "    .dataframe tbody tr th:only-of-type {\n",
       "        vertical-align: middle;\n",
       "    }\n",
       "\n",
       "    .dataframe tbody tr th {\n",
       "        vertical-align: top;\n",
       "    }\n",
       "\n",
       "    .dataframe thead th {\n",
       "        text-align: right;\n",
       "    }\n",
       "</style>\n",
       "<table border=\"1\" class=\"dataframe\">\n",
       "  <thead>\n",
       "    <tr style=\"text-align: right;\">\n",
       "      <th></th>\n",
       "      <th>Income Zone</th>\n",
       "      <th>Loan Amount</th>\n",
       "    </tr>\n",
       "  </thead>\n",
       "  <tbody>\n",
       "    <tr>\n",
       "      <th>0</th>\n",
       "      <td>Low_income</td>\n",
       "      <td>6508562.0</td>\n",
       "    </tr>\n",
       "    <tr>\n",
       "      <th>1</th>\n",
       "      <td>Middle_income</td>\n",
       "      <td>19286695.0</td>\n",
       "    </tr>\n",
       "    <tr>\n",
       "      <th>2</th>\n",
       "      <td>High_income</td>\n",
       "      <td>34865671.0</td>\n",
       "    </tr>\n",
       "  </tbody>\n",
       "</table>\n",
       "</div>"
      ],
      "text/plain": [
       "     Income Zone  Loan Amount\n",
       "0     Low_income    6508562.0\n",
       "1  Middle_income   19286695.0\n",
       "2    High_income   34865671.0"
      ]
     },
     "execution_count": 221,
     "metadata": {},
     "output_type": "execute_result"
    }
   ],
   "source": [
    "df = pd.DataFrame(data, columns = ['Income Zone', 'Loan Amount'])\n",
    "df['Loan Amount'] = df['Loan Amount'].astype(float)\n",
    "# Create the pandas DataFrame \n",
    "\n",
    "df"
   ]
  },
  {
   "cell_type": "code",
   "execution_count": 222,
   "metadata": {},
   "outputs": [
    {
     "data": {
      "text/plain": [
       "<matplotlib.axes._subplots.AxesSubplot at 0x7fe157237690>"
      ]
     },
     "execution_count": 222,
     "metadata": {},
     "output_type": "execute_result"
    },
    {
     "data": {
      "image/png": "[encoded data removed]",
      "text/plain": [
       "<Figure size 1080x504 with 1 Axes>"
      ]
     },
     "metadata": {
      "needs_background": "light"
     },
     "output_type": "display_data"
    }
   ],
   "source": [
    "df.plot.bar(figsize=(15, 7), x = \"Income Zone\", y =\"Loan Amount\", title = \" Loan Amount recieved per Income Zone\")"
   ]
  },
  {
   "cell_type": "code",
   "execution_count": 225,
   "metadata": {},
   "outputs": [],
   "source": [
    "csvpath1= Path('Pre_restaurants.csv')"
   ]
  },
  {
   "cell_type": "code",
   "execution_count": 226,
   "metadata": {},
   "outputs": [
    {
     "ename": "FileNotFoundError",
     "evalue": "[Errno 2] File b'Pre_restaurants.csv' does not exist: b'Pre_restaurants.csv'",
     "output_type": "error",
     "traceback": [
      "\u001b[0;31m---------------------------------------------------------------------------\u001b[0m",
      "\u001b[0;31mFileNotFoundError\u001b[0m                         Traceback (most recent call last)",
      "\u001b[0;32m<ipython-input-226-e02fcd800954>\u001b[0m in \u001b[0;36m<module>\u001b[0;34m\u001b[0m\n\u001b[0;32m----> 1\u001b[0;31m \u001b[0mpre_rest_db\u001b[0m\u001b[0;34m=\u001b[0m \u001b[0mpd\u001b[0m\u001b[0;34m.\u001b[0m\u001b[0mread_csv\u001b[0m\u001b[0;34m(\u001b[0m\u001b[0mcsvpath1\u001b[0m\u001b[0;34m)\u001b[0m\u001b[0;34m\u001b[0m\u001b[0;34m\u001b[0m\u001b[0m\n\u001b[0m",
      "\u001b[0;32m~/opt/anaconda3/lib/python3.7/site-packages/pandas/io/parsers.py\u001b[0m in \u001b[0;36mparser_f\u001b[0;34m(filepath_or_buffer, sep, delimiter, header, names, index_col, usecols, squeeze, prefix, mangle_dupe_cols, dtype, engine, converters, true_values, false_values, skipinitialspace, skiprows, skipfooter, nrows, na_values, keep_default_na, na_filter, verbose, skip_blank_lines, parse_dates, infer_datetime_format, keep_date_col, date_parser, dayfirst, iterator, chunksize, compression, thousands, decimal, lineterminator, quotechar, quoting, doublequote, escapechar, comment, encoding, dialect, tupleize_cols, error_bad_lines, warn_bad_lines, delim_whitespace, low_memory, memory_map, float_precision)\u001b[0m\n\u001b[1;32m    700\u001b[0m                     skip_blank_lines=skip_blank_lines)\n\u001b[1;32m    701\u001b[0m \u001b[0;34m\u001b[0m\u001b[0m\n\u001b[0;32m--> 702\u001b[0;31m         \u001b[0;32mreturn\u001b[0m \u001b[0m_read\u001b[0m\u001b[0;34m(\u001b[0m\u001b[0mfilepath_or_buffer\u001b[0m\u001b[0;34m,\u001b[0m \u001b[0mkwds\u001b[0m\u001b[0;34m)\u001b[0m\u001b[0;34m\u001b[0m\u001b[0;34m\u001b[0m\u001b[0m\n\u001b[0m\u001b[1;32m    703\u001b[0m \u001b[0;34m\u001b[0m\u001b[0m\n\u001b[1;32m    704\u001b[0m     \u001b[0mparser_f\u001b[0m\u001b[0;34m.\u001b[0m\u001b[0m__name__\u001b[0m \u001b[0;34m=\u001b[0m \u001b[0mname\u001b[0m\u001b[0;34m\u001b[0m\u001b[0;34m\u001b[0m\u001b[0m\n",
      "\u001b[0;32m~/opt/anaconda3/lib/python3.7/site-packages/pandas/io/parsers.py\u001b[0m in \u001b[0;36m_read\u001b[0;34m(filepath_or_buffer, kwds)\u001b[0m\n\u001b[1;32m    427\u001b[0m \u001b[0;34m\u001b[0m\u001b[0m\n\u001b[1;32m    428\u001b[0m     \u001b[0;31m# Create the parser.\u001b[0m\u001b[0;34m\u001b[0m\u001b[0;34m\u001b[0m\u001b[0;34m\u001b[0m\u001b[0m\n\u001b[0;32m--> 429\u001b[0;31m     \u001b[0mparser\u001b[0m \u001b[0;34m=\u001b[0m \u001b[0mTextFileReader\u001b[0m\u001b[0;34m(\u001b[0m\u001b[0mfilepath_or_buffer\u001b[0m\u001b[0;34m,\u001b[0m \u001b[0;34m**\u001b[0m\u001b[0mkwds\u001b[0m\u001b[0;34m)\u001b[0m\u001b[0;34m\u001b[0m\u001b[0;34m\u001b[0m\u001b[0m\n\u001b[0m\u001b[1;32m    430\u001b[0m \u001b[0;34m\u001b[0m\u001b[0m\n\u001b[1;32m    431\u001b[0m     \u001b[0;32mif\u001b[0m \u001b[0mchunksize\u001b[0m \u001b[0;32mor\u001b[0m \u001b[0miterator\u001b[0m\u001b[0;34m:\u001b[0m\u001b[0;34m\u001b[0m\u001b[0;34m\u001b[0m\u001b[0m\n",
      "\u001b[0;32m~/opt/anaconda3/lib/python3.7/site-packages/pandas/io/parsers.py\u001b[0m in \u001b[0;36m__init__\u001b[0;34m(self, f, engine, **kwds)\u001b[0m\n\u001b[1;32m    893\u001b[0m             \u001b[0mself\u001b[0m\u001b[0;34m.\u001b[0m\u001b[0moptions\u001b[0m\u001b[0;34m[\u001b[0m\u001b[0;34m'has_index_names'\u001b[0m\u001b[0;34m]\u001b[0m \u001b[0;34m=\u001b[0m \u001b[0mkwds\u001b[0m\u001b[0;34m[\u001b[0m\u001b[0;34m'has_index_names'\u001b[0m\u001b[0;34m]\u001b[0m\u001b[0;34m\u001b[0m\u001b[0;34m\u001b[0m\u001b[0m\n\u001b[1;32m    894\u001b[0m \u001b[0;34m\u001b[0m\u001b[0m\n\u001b[0;32m--> 895\u001b[0;31m         \u001b[0mself\u001b[0m\u001b[0;34m.\u001b[0m\u001b[0m_make_engine\u001b[0m\u001b[0;34m(\u001b[0m\u001b[0mself\u001b[0m\u001b[0;34m.\u001b[0m\u001b[0mengine\u001b[0m\u001b[0;34m)\u001b[0m\u001b[0;34m\u001b[0m\u001b[0;34m\u001b[0m\u001b[0m\n\u001b[0m\u001b[1;32m    896\u001b[0m \u001b[0;34m\u001b[0m\u001b[0m\n\u001b[1;32m    897\u001b[0m     \u001b[0;32mdef\u001b[0m \u001b[0mclose\u001b[0m\u001b[0;34m(\u001b[0m\u001b[0mself\u001b[0m\u001b[0;34m)\u001b[0m\u001b[0;34m:\u001b[0m\u001b[0;34m\u001b[0m\u001b[0;34m\u001b[0m\u001b[0m\n",
      "\u001b[0;32m~/opt/anaconda3/lib/python3.7/site-packages/pandas/io/parsers.py\u001b[0m in \u001b[0;36m_make_engine\u001b[0;34m(self, engine)\u001b[0m\n\u001b[1;32m   1120\u001b[0m     \u001b[0;32mdef\u001b[0m \u001b[0m_make_engine\u001b[0m\u001b[0;34m(\u001b[0m\u001b[0mself\u001b[0m\u001b[0;34m,\u001b[0m \u001b[0mengine\u001b[0m\u001b[0;34m=\u001b[0m\u001b[0;34m'c'\u001b[0m\u001b[0;34m)\u001b[0m\u001b[0;34m:\u001b[0m\u001b[0;34m\u001b[0m\u001b[0;34m\u001b[0m\u001b[0m\n\u001b[1;32m   1121\u001b[0m         \u001b[0;32mif\u001b[0m \u001b[0mengine\u001b[0m \u001b[0;34m==\u001b[0m \u001b[0;34m'c'\u001b[0m\u001b[0;34m:\u001b[0m\u001b[0;34m\u001b[0m\u001b[0;34m\u001b[0m\u001b[0m\n\u001b[0;32m-> 1122\u001b[0;31m             \u001b[0mself\u001b[0m\u001b[0;34m.\u001b[0m\u001b[0m_engine\u001b[0m \u001b[0;34m=\u001b[0m \u001b[0mCParserWrapper\u001b[0m\u001b[0;34m(\u001b[0m\u001b[0mself\u001b[0m\u001b[0;34m.\u001b[0m\u001b[0mf\u001b[0m\u001b[0;34m,\u001b[0m \u001b[0;34m**\u001b[0m\u001b[0mself\u001b[0m\u001b[0;34m.\u001b[0m\u001b[0moptions\u001b[0m\u001b[0;34m)\u001b[0m\u001b[0;34m\u001b[0m\u001b[0;34m\u001b[0m\u001b[0m\n\u001b[0m\u001b[1;32m   1123\u001b[0m         \u001b[0;32melse\u001b[0m\u001b[0;34m:\u001b[0m\u001b[0;34m\u001b[0m\u001b[0;34m\u001b[0m\u001b[0m\n\u001b[1;32m   1124\u001b[0m             \u001b[0;32mif\u001b[0m \u001b[0mengine\u001b[0m \u001b[0;34m==\u001b[0m \u001b[0;34m'python'\u001b[0m\u001b[0;34m:\u001b[0m\u001b[0;34m\u001b[0m\u001b[0;34m\u001b[0m\u001b[0m\n",
      "\u001b[0;32m~/opt/anaconda3/lib/python3.7/site-packages/pandas/io/parsers.py\u001b[0m in \u001b[0;36m__init__\u001b[0;34m(self, src, **kwds)\u001b[0m\n\u001b[1;32m   1851\u001b[0m         \u001b[0mkwds\u001b[0m\u001b[0;34m[\u001b[0m\u001b[0;34m'usecols'\u001b[0m\u001b[0;34m]\u001b[0m \u001b[0;34m=\u001b[0m \u001b[0mself\u001b[0m\u001b[0;34m.\u001b[0m\u001b[0musecols\u001b[0m\u001b[0;34m\u001b[0m\u001b[0;34m\u001b[0m\u001b[0m\n\u001b[1;32m   1852\u001b[0m \u001b[0;34m\u001b[0m\u001b[0m\n\u001b[0;32m-> 1853\u001b[0;31m         \u001b[0mself\u001b[0m\u001b[0;34m.\u001b[0m\u001b[0m_reader\u001b[0m \u001b[0;34m=\u001b[0m \u001b[0mparsers\u001b[0m\u001b[0;34m.\u001b[0m\u001b[0mTextReader\u001b[0m\u001b[0;34m(\u001b[0m\u001b[0msrc\u001b[0m\u001b[0;34m,\u001b[0m \u001b[0;34m**\u001b[0m\u001b[0mkwds\u001b[0m\u001b[0;34m)\u001b[0m\u001b[0;34m\u001b[0m\u001b[0;34m\u001b[0m\u001b[0m\n\u001b[0m\u001b[1;32m   1854\u001b[0m         \u001b[0mself\u001b[0m\u001b[0;34m.\u001b[0m\u001b[0munnamed_cols\u001b[0m \u001b[0;34m=\u001b[0m \u001b[0mself\u001b[0m\u001b[0;34m.\u001b[0m\u001b[0m_reader\u001b[0m\u001b[0;34m.\u001b[0m\u001b[0munnamed_cols\u001b[0m\u001b[0;34m\u001b[0m\u001b[0;34m\u001b[0m\u001b[0m\n\u001b[1;32m   1855\u001b[0m \u001b[0;34m\u001b[0m\u001b[0m\n",
      "\u001b[0;32mpandas/_libs/parsers.pyx\u001b[0m in \u001b[0;36mpandas._libs.parsers.TextReader.__cinit__\u001b[0;34m()\u001b[0m\n",
      "\u001b[0;32mpandas/_libs/parsers.pyx\u001b[0m in \u001b[0;36mpandas._libs.parsers.TextReader._setup_parser_source\u001b[0;34m()\u001b[0m\n",
      "\u001b[0;31mFileNotFoundError\u001b[0m: [Errno 2] File b'Pre_restaurants.csv' does not exist: b'Pre_restaurants.csv'"
     ]
    }
   ],
   "source": [
    "pre_rest_db= pd.read_csv(csvpath1)"
   ]
  },
  {
   "cell_type": "code",
   "execution_count": null,
   "metadata": {},
   "outputs": [],
   "source": []
  }
 ],
 "metadata": {
  "kernelspec": {
   "display_name": "Python 3",
   "language": "python",
   "name": "python3"
  },
  "language_info": {
   "codemirror_mode": {
    "name": "ipython",
    "version": 3
   },
   "file_extension": ".py",
   "mimetype": "text/x-python",
   "name": "python",
   "nbconvert_exporter": "python",
   "pygments_lexer": "ipython3",
   "version": "3.7.6"
  }
 },
 "nbformat": 4,
 "nbformat_minor": 4
}
